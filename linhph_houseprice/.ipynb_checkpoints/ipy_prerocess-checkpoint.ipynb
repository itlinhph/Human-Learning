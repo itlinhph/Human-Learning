{
 "cells": [
  {
   "cell_type": "code",
   "execution_count": 1,
   "metadata": {},
   "outputs": [],
   "source": [
    "import pandas as pd"
   ]
  },
  {
   "cell_type": "code",
   "execution_count": 2,
   "metadata": {},
   "outputs": [],
   "source": [
    "dataset = pd.read_csv(\"data/dataset.csv\")"
   ]
  },
  {
   "cell_type": "code",
   "execution_count": 3,
   "metadata": {},
   "outputs": [
    {
     "data": {
      "text/html": [
       "<div>\n",
       "<style scoped>\n",
       "    .dataframe tbody tr th:only-of-type {\n",
       "        vertical-align: middle;\n",
       "    }\n",
       "\n",
       "    .dataframe tbody tr th {\n",
       "        vertical-align: top;\n",
       "    }\n",
       "\n",
       "    .dataframe thead th {\n",
       "        text-align: right;\n",
       "    }\n",
       "</style>\n",
       "<table border=\"1\" class=\"dataframe\">\n",
       "  <thead>\n",
       "    <tr style=\"text-align: right;\">\n",
       "      <th></th>\n",
       "      <th>Kinh_do</th>\n",
       "      <th>Vi_do</th>\n",
       "      <th>Tuoi_trung_binh</th>\n",
       "      <th>Tong_so_phong</th>\n",
       "      <th>So_phong_ngu</th>\n",
       "      <th>Dan_so</th>\n",
       "      <th>So_ho_gia_dinh</th>\n",
       "      <th>Thu_nhap_trung_binh</th>\n",
       "      <th>Gan_bien</th>\n",
       "      <th>gia_nha_trung_binh</th>\n",
       "    </tr>\n",
       "  </thead>\n",
       "  <tbody>\n",
       "    <tr>\n",
       "      <th>0</th>\n",
       "      <td>-121.96</td>\n",
       "      <td>37.81</td>\n",
       "      <td>12</td>\n",
       "      <td>6488</td>\n",
       "      <td>778.0</td>\n",
       "      <td>2404</td>\n",
       "      <td>765</td>\n",
       "      <td>8.3188</td>\n",
       "      <td>&lt;1H OCEAN</td>\n",
       "      <td>403400</td>\n",
       "    </tr>\n",
       "    <tr>\n",
       "      <th>1</th>\n",
       "      <td>-117.11</td>\n",
       "      <td>32.69</td>\n",
       "      <td>34</td>\n",
       "      <td>1144</td>\n",
       "      <td>295.0</td>\n",
       "      <td>1271</td>\n",
       "      <td>302</td>\n",
       "      <td>2.0900</td>\n",
       "      <td>NEAR OCEAN</td>\n",
       "      <td>91800</td>\n",
       "    </tr>\n",
       "    <tr>\n",
       "      <th>2</th>\n",
       "      <td>-121.78</td>\n",
       "      <td>38.66</td>\n",
       "      <td>18</td>\n",
       "      <td>4224</td>\n",
       "      <td>632.0</td>\n",
       "      <td>1907</td>\n",
       "      <td>641</td>\n",
       "      <td>4.8226</td>\n",
       "      <td>INLAND</td>\n",
       "      <td>139900</td>\n",
       "    </tr>\n",
       "    <tr>\n",
       "      <th>3</th>\n",
       "      <td>-117.58</td>\n",
       "      <td>33.92</td>\n",
       "      <td>16</td>\n",
       "      <td>4157</td>\n",
       "      <td>586.0</td>\n",
       "      <td>2036</td>\n",
       "      <td>594</td>\n",
       "      <td>6.1550</td>\n",
       "      <td>INLAND</td>\n",
       "      <td>246400</td>\n",
       "    </tr>\n",
       "    <tr>\n",
       "      <th>4</th>\n",
       "      <td>-118.20</td>\n",
       "      <td>34.16</td>\n",
       "      <td>31</td>\n",
       "      <td>5550</td>\n",
       "      <td>881.0</td>\n",
       "      <td>2465</td>\n",
       "      <td>862</td>\n",
       "      <td>6.8317</td>\n",
       "      <td>&lt;1H OCEAN</td>\n",
       "      <td>446100</td>\n",
       "    </tr>\n",
       "    <tr>\n",
       "      <th>5</th>\n",
       "      <td>-121.62</td>\n",
       "      <td>36.43</td>\n",
       "      <td>20</td>\n",
       "      <td>1335</td>\n",
       "      <td>290.0</td>\n",
       "      <td>717</td>\n",
       "      <td>243</td>\n",
       "      <td>4.7891</td>\n",
       "      <td>&lt;1H OCEAN</td>\n",
       "      <td>230600</td>\n",
       "    </tr>\n",
       "    <tr>\n",
       "      <th>6</th>\n",
       "      <td>-119.29</td>\n",
       "      <td>34.31</td>\n",
       "      <td>25</td>\n",
       "      <td>1092</td>\n",
       "      <td>190.0</td>\n",
       "      <td>702</td>\n",
       "      <td>215</td>\n",
       "      <td>3.9063</td>\n",
       "      <td>NEAR OCEAN</td>\n",
       "      <td>192700</td>\n",
       "    </tr>\n",
       "    <tr>\n",
       "      <th>7</th>\n",
       "      <td>-119.67</td>\n",
       "      <td>36.65</td>\n",
       "      <td>20</td>\n",
       "      <td>2512</td>\n",
       "      <td>449.0</td>\n",
       "      <td>1464</td>\n",
       "      <td>450</td>\n",
       "      <td>3.9211</td>\n",
       "      <td>INLAND</td>\n",
       "      <td>92300</td>\n",
       "    </tr>\n",
       "    <tr>\n",
       "      <th>8</th>\n",
       "      <td>-117.04</td>\n",
       "      <td>32.75</td>\n",
       "      <td>36</td>\n",
       "      <td>2297</td>\n",
       "      <td>418.0</td>\n",
       "      <td>1070</td>\n",
       "      <td>392</td>\n",
       "      <td>3.5192</td>\n",
       "      <td>NEAR OCEAN</td>\n",
       "      <td>144000</td>\n",
       "    </tr>\n",
       "    <tr>\n",
       "      <th>9</th>\n",
       "      <td>-117.03</td>\n",
       "      <td>33.32</td>\n",
       "      <td>14</td>\n",
       "      <td>1088</td>\n",
       "      <td>209.0</td>\n",
       "      <td>601</td>\n",
       "      <td>193</td>\n",
       "      <td>3.8438</td>\n",
       "      <td>&lt;1H OCEAN</td>\n",
       "      <td>243800</td>\n",
       "    </tr>\n",
       "  </tbody>\n",
       "</table>\n",
       "</div>"
      ],
      "text/plain": [
       "   Kinh_do  Vi_do  Tuoi_trung_binh  Tong_so_phong  So_phong_ngu  Dan_so  \\\n",
       "0  -121.96  37.81               12           6488         778.0    2404   \n",
       "1  -117.11  32.69               34           1144         295.0    1271   \n",
       "2  -121.78  38.66               18           4224         632.0    1907   \n",
       "3  -117.58  33.92               16           4157         586.0    2036   \n",
       "4  -118.20  34.16               31           5550         881.0    2465   \n",
       "5  -121.62  36.43               20           1335         290.0     717   \n",
       "6  -119.29  34.31               25           1092         190.0     702   \n",
       "7  -119.67  36.65               20           2512         449.0    1464   \n",
       "8  -117.04  32.75               36           2297         418.0    1070   \n",
       "9  -117.03  33.32               14           1088         209.0     601   \n",
       "\n",
       "   So_ho_gia_dinh  Thu_nhap_trung_binh    Gan_bien  gia_nha_trung_binh  \n",
       "0             765               8.3188   <1H OCEAN              403400  \n",
       "1             302               2.0900  NEAR OCEAN               91800  \n",
       "2             641               4.8226      INLAND              139900  \n",
       "3             594               6.1550      INLAND              246400  \n",
       "4             862               6.8317   <1H OCEAN              446100  \n",
       "5             243               4.7891   <1H OCEAN              230600  \n",
       "6             215               3.9063  NEAR OCEAN              192700  \n",
       "7             450               3.9211      INLAND               92300  \n",
       "8             392               3.5192  NEAR OCEAN              144000  \n",
       "9             193               3.8438   <1H OCEAN              243800  "
      ]
     },
     "execution_count": 3,
     "metadata": {},
     "output_type": "execute_result"
    }
   ],
   "source": [
    "dataset.head(10)"
   ]
  },
  {
   "cell_type": "code",
   "execution_count": 4,
   "metadata": {},
   "outputs": [
    {
     "name": "stdout",
     "output_type": "stream",
     "text": [
      "<class 'pandas.core.frame.DataFrame'>\n",
      "RangeIndex: 17544 entries, 0 to 17543\n",
      "Data columns (total 10 columns):\n",
      "Kinh_do                17544 non-null float64\n",
      "Vi_do                  17544 non-null float64\n",
      "Tuoi_trung_binh        17544 non-null int64\n",
      "Tong_so_phong          17544 non-null int64\n",
      "So_phong_ngu           17375 non-null float64\n",
      "Dan_so                 17544 non-null int64\n",
      "So_ho_gia_dinh         17544 non-null int64\n",
      "Thu_nhap_trung_binh    17544 non-null float64\n",
      "Gan_bien               17544 non-null object\n",
      "gia_nha_trung_binh     17544 non-null int64\n",
      "dtypes: float64(4), int64(5), object(1)\n",
      "memory usage: 1.3+ MB\n"
     ]
    }
   ],
   "source": [
    "dataset.info()"
   ]
  },
  {
   "cell_type": "code",
   "execution_count": 5,
   "metadata": {},
   "outputs": [
    {
     "data": {
      "text/plain": [
       "<1H OCEAN     7779\n",
       "INLAND        5574\n",
       "NEAR OCEAN    2262\n",
       "NEAR BAY      1925\n",
       "ISLAND           4\n",
       "Name: Gan_bien, dtype: int64"
      ]
     },
     "execution_count": 5,
     "metadata": {},
     "output_type": "execute_result"
    }
   ],
   "source": [
    "dataset[\"Gan_bien\"].value_counts()"
   ]
  },
  {
   "cell_type": "code",
   "execution_count": 6,
   "metadata": {},
   "outputs": [
    {
     "data": {
      "text/html": [
       "<div>\n",
       "<style scoped>\n",
       "    .dataframe tbody tr th:only-of-type {\n",
       "        vertical-align: middle;\n",
       "    }\n",
       "\n",
       "    .dataframe tbody tr th {\n",
       "        vertical-align: top;\n",
       "    }\n",
       "\n",
       "    .dataframe thead th {\n",
       "        text-align: right;\n",
       "    }\n",
       "</style>\n",
       "<table border=\"1\" class=\"dataframe\">\n",
       "  <thead>\n",
       "    <tr style=\"text-align: right;\">\n",
       "      <th></th>\n",
       "      <th>Kinh_do</th>\n",
       "      <th>Vi_do</th>\n",
       "      <th>Tuoi_trung_binh</th>\n",
       "      <th>Tong_so_phong</th>\n",
       "      <th>So_phong_ngu</th>\n",
       "      <th>Dan_so</th>\n",
       "      <th>So_ho_gia_dinh</th>\n",
       "      <th>Thu_nhap_trung_binh</th>\n",
       "      <th>gia_nha_trung_binh</th>\n",
       "    </tr>\n",
       "  </thead>\n",
       "  <tbody>\n",
       "    <tr>\n",
       "      <th>count</th>\n",
       "      <td>17544.000000</td>\n",
       "      <td>17544.000000</td>\n",
       "      <td>17544.000000</td>\n",
       "      <td>17544.000000</td>\n",
       "      <td>17375.000000</td>\n",
       "      <td>17544.000000</td>\n",
       "      <td>17544.000000</td>\n",
       "      <td>17544.000000</td>\n",
       "      <td>17544.000000</td>\n",
       "    </tr>\n",
       "    <tr>\n",
       "      <th>mean</th>\n",
       "      <td>-119.567452</td>\n",
       "      <td>35.631485</td>\n",
       "      <td>28.631156</td>\n",
       "      <td>2636.917237</td>\n",
       "      <td>538.724086</td>\n",
       "      <td>1427.655267</td>\n",
       "      <td>500.087380</td>\n",
       "      <td>3.863281</td>\n",
       "      <td>206281.099008</td>\n",
       "    </tr>\n",
       "    <tr>\n",
       "      <th>std</th>\n",
       "      <td>2.004823</td>\n",
       "      <td>2.137291</td>\n",
       "      <td>12.527451</td>\n",
       "      <td>2175.054149</td>\n",
       "      <td>419.810731</td>\n",
       "      <td>1136.855686</td>\n",
       "      <td>381.866762</td>\n",
       "      <td>1.896523</td>\n",
       "      <td>115063.552879</td>\n",
       "    </tr>\n",
       "    <tr>\n",
       "      <th>min</th>\n",
       "      <td>-124.350000</td>\n",
       "      <td>32.540000</td>\n",
       "      <td>1.000000</td>\n",
       "      <td>8.000000</td>\n",
       "      <td>1.000000</td>\n",
       "      <td>3.000000</td>\n",
       "      <td>1.000000</td>\n",
       "      <td>0.499900</td>\n",
       "      <td>14999.000000</td>\n",
       "    </tr>\n",
       "    <tr>\n",
       "      <th>25%</th>\n",
       "      <td>-121.790000</td>\n",
       "      <td>33.930000</td>\n",
       "      <td>18.000000</td>\n",
       "      <td>1452.000000</td>\n",
       "      <td>297.000000</td>\n",
       "      <td>788.750000</td>\n",
       "      <td>281.000000</td>\n",
       "      <td>2.559725</td>\n",
       "      <td>119000.000000</td>\n",
       "    </tr>\n",
       "    <tr>\n",
       "      <th>50%</th>\n",
       "      <td>-118.500000</td>\n",
       "      <td>34.250000</td>\n",
       "      <td>29.000000</td>\n",
       "      <td>2127.000000</td>\n",
       "      <td>435.000000</td>\n",
       "      <td>1168.000000</td>\n",
       "      <td>410.000000</td>\n",
       "      <td>3.526800</td>\n",
       "      <td>179350.000000</td>\n",
       "    </tr>\n",
       "    <tr>\n",
       "      <th>75%</th>\n",
       "      <td>-118.010000</td>\n",
       "      <td>37.720000</td>\n",
       "      <td>37.000000</td>\n",
       "      <td>3145.250000</td>\n",
       "      <td>648.000000</td>\n",
       "      <td>1729.000000</td>\n",
       "      <td>606.000000</td>\n",
       "      <td>4.736900</td>\n",
       "      <td>264100.000000</td>\n",
       "    </tr>\n",
       "    <tr>\n",
       "      <th>max</th>\n",
       "      <td>-114.310000</td>\n",
       "      <td>41.950000</td>\n",
       "      <td>52.000000</td>\n",
       "      <td>37937.000000</td>\n",
       "      <td>6445.000000</td>\n",
       "      <td>35682.000000</td>\n",
       "      <td>6082.000000</td>\n",
       "      <td>15.000100</td>\n",
       "      <td>500001.000000</td>\n",
       "    </tr>\n",
       "  </tbody>\n",
       "</table>\n",
       "</div>"
      ],
      "text/plain": [
       "            Kinh_do         Vi_do  Tuoi_trung_binh  Tong_so_phong  \\\n",
       "count  17544.000000  17544.000000     17544.000000   17544.000000   \n",
       "mean    -119.567452     35.631485        28.631156    2636.917237   \n",
       "std        2.004823      2.137291        12.527451    2175.054149   \n",
       "min     -124.350000     32.540000         1.000000       8.000000   \n",
       "25%     -121.790000     33.930000        18.000000    1452.000000   \n",
       "50%     -118.500000     34.250000        29.000000    2127.000000   \n",
       "75%     -118.010000     37.720000        37.000000    3145.250000   \n",
       "max     -114.310000     41.950000        52.000000   37937.000000   \n",
       "\n",
       "       So_phong_ngu        Dan_so  So_ho_gia_dinh  Thu_nhap_trung_binh  \\\n",
       "count  17375.000000  17544.000000    17544.000000         17544.000000   \n",
       "mean     538.724086   1427.655267      500.087380             3.863281   \n",
       "std      419.810731   1136.855686      381.866762             1.896523   \n",
       "min        1.000000      3.000000        1.000000             0.499900   \n",
       "25%      297.000000    788.750000      281.000000             2.559725   \n",
       "50%      435.000000   1168.000000      410.000000             3.526800   \n",
       "75%      648.000000   1729.000000      606.000000             4.736900   \n",
       "max     6445.000000  35682.000000     6082.000000            15.000100   \n",
       "\n",
       "       gia_nha_trung_binh  \n",
       "count        17544.000000  \n",
       "mean        206281.099008  \n",
       "std         115063.552879  \n",
       "min          14999.000000  \n",
       "25%         119000.000000  \n",
       "50%         179350.000000  \n",
       "75%         264100.000000  \n",
       "max         500001.000000  "
      ]
     },
     "execution_count": 6,
     "metadata": {},
     "output_type": "execute_result"
    }
   ],
   "source": [
    "dataset.describe()"
   ]
  },
  {
   "cell_type": "code",
   "execution_count": 7,
   "metadata": {
    "scrolled": true
   },
   "outputs": [
    {
     "data": {
      "image/png": "[encoded data removed]",
      "text/plain": [
       "<Figure size 1440x1440 with 9 Axes>"
      ]
     },
     "metadata": {
      "needs_background": "light"
     },
     "output_type": "display_data"
    }
   ],
   "source": [
    "%matplotlib inline\n",
    "import matplotlib.pyplot as plt\n",
    "dataset.hist(bins=50, figsize=(20,20))\n",
    "plt.show()"
   ]
  },
  {
   "cell_type": "code",
   "execution_count": 8,
   "metadata": {},
   "outputs": [
    {
     "data": {
      "text/plain": [
       "<matplotlib.axes._subplots.AxesSubplot at 0x7f29a5022cf8>"
      ]
     },
     "execution_count": 8,
     "metadata": {},
     "output_type": "execute_result"
    },
    {
     "data": {
      "image/png": "[encoded data removed]",
      "text/plain": [
       "<Figure size 432x288 with 1 Axes>"
      ]
     },
     "metadata": {
      "needs_background": "light"
     },
     "output_type": "display_data"
    }
   ],
   "source": [
    "dataset.plot(kind=\"scatter\", x=\"Kinh_do\", y=\"Vi_do\", alpha=0.4)"
   ]
  },
  {
   "cell_type": "code",
   "execution_count": 72,
   "metadata": {},
   "outputs": [
    {
     "data": {
      "text/plain": [
       "<matplotlib.legend.Legend at 0x7f29a4d447b8>"
      ]
     },
     "execution_count": 72,
     "metadata": {},
     "output_type": "execute_result"
    },
    {
     "data": {
      "image/png": "[encoded data removed]",
      "text/plain": [
       "<Figure size 432x288 with 2 Axes>"
      ]
     },
     "metadata": {
      "needs_background": "light"
     },
     "output_type": "display_data"
    }
   ],
   "source": [
    "dataset[dataset[\"gia_nha_trung_binh\"]> 490000].plot(kind=\"scatter\", x=\"Kinh_do\", y=\"Vi_do\", alpha=0.2,\n",
    "label=\"label\",\n",
    "c=\"gia_nha_trung_binh\", cmap=plt.get_cmap(\"jet\"), colorbar=True,\n",
    ")\n",
    "plt.legend()"
   ]
  },
  {
   "cell_type": "code",
   "execution_count": 10,
   "metadata": {},
   "outputs": [],
   "source": [
    "# import csv\n",
    "# from sklearn.model_selection import train_test_split\n",
    "\n",
    "# def divide_train_test(file_dataset):\n",
    "#     with open(file_dataset, 'r') as f:\n",
    "#         rows = csv.reader(f)\n",
    "#         list_data = list(rows)\n",
    "#     list_data.pop(0)\n",
    "#     train_set, test_set = train_test_split(list_data, test_size = 0.2, random_state=40)\n",
    "#     train_set.insert(0,[\"Kinh_do\",\"Vi_do\",\"Tuoi_trung_binh\",\"Tong_so_phong\",\"So_phong_ngu\",\"Dan_so\",\"So_ho_gia_dinh\",\"Thu_nhap_trung_binh\",\"Gan_bien\",\"gia_nha_trung_binh\"])\n",
    "#     test_set.insert(0,[\"Kinh_do\",\"Vi_do\",\"Tuoi_trung_binh\",\"Tong_so_phong\",\"So_phong_ngu\",\"Dan_so\",\"So_ho_gia_dinh\",\"Thu_nhap_trung_binh\",\"Gan_bien\",\"gia_nha_trung_binh\"])\n",
    "    \n",
    "#     with open(\"data/train_set.csv\", \"w\") as f:\n",
    "#         writer = csv.writer(f)\n",
    "#         writer.writerows(train_set)\n",
    "\n",
    "#     with open(\"data/test_set.csv\", \"w\") as f:\n",
    "#         writer = csv.writer(f)\n",
    "#         writer.writerows(test_set)\n",
    "\n",
    "# divide_train_test(\"data/dataset.csv\")"
   ]
  },
  {
   "cell_type": "code",
   "execution_count": 11,
   "metadata": {
    "scrolled": true
   },
   "outputs": [
    {
     "data": {
      "text/html": [
       "<div>\n",
       "<style scoped>\n",
       "    .dataframe tbody tr th:only-of-type {\n",
       "        vertical-align: middle;\n",
       "    }\n",
       "\n",
       "    .dataframe tbody tr th {\n",
       "        vertical-align: top;\n",
       "    }\n",
       "\n",
       "    .dataframe thead th {\n",
       "        text-align: right;\n",
       "    }\n",
       "</style>\n",
       "<table border=\"1\" class=\"dataframe\">\n",
       "  <thead>\n",
       "    <tr style=\"text-align: right;\">\n",
       "      <th></th>\n",
       "      <th>Kinh_do</th>\n",
       "      <th>Vi_do</th>\n",
       "      <th>Tuoi_trung_binh</th>\n",
       "      <th>Tong_so_phong</th>\n",
       "      <th>So_phong_ngu</th>\n",
       "      <th>Dan_so</th>\n",
       "      <th>So_ho_gia_dinh</th>\n",
       "      <th>Thu_nhap_trung_binh</th>\n",
       "      <th>gia_nha_trung_binh</th>\n",
       "    </tr>\n",
       "  </thead>\n",
       "  <tbody>\n",
       "    <tr>\n",
       "      <th>count</th>\n",
       "      <td>14035.000000</td>\n",
       "      <td>14035.000000</td>\n",
       "      <td>14035.000000</td>\n",
       "      <td>14035.000000</td>\n",
       "      <td>13892.000000</td>\n",
       "      <td>14035.000000</td>\n",
       "      <td>14035.000000</td>\n",
       "      <td>14035.000000</td>\n",
       "      <td>14035.000000</td>\n",
       "    </tr>\n",
       "    <tr>\n",
       "      <th>mean</th>\n",
       "      <td>-119.570204</td>\n",
       "      <td>35.641079</td>\n",
       "      <td>28.646028</td>\n",
       "      <td>2645.595369</td>\n",
       "      <td>540.165851</td>\n",
       "      <td>1431.556466</td>\n",
       "      <td>501.262059</td>\n",
       "      <td>3.853553</td>\n",
       "      <td>205438.248593</td>\n",
       "    </tr>\n",
       "    <tr>\n",
       "      <th>std</th>\n",
       "      <td>2.007920</td>\n",
       "      <td>2.141460</td>\n",
       "      <td>12.493246</td>\n",
       "      <td>2207.076308</td>\n",
       "      <td>424.806658</td>\n",
       "      <td>1159.506364</td>\n",
       "      <td>386.537495</td>\n",
       "      <td>1.881041</td>\n",
       "      <td>114268.000658</td>\n",
       "    </tr>\n",
       "    <tr>\n",
       "      <th>min</th>\n",
       "      <td>-124.350000</td>\n",
       "      <td>32.540000</td>\n",
       "      <td>1.000000</td>\n",
       "      <td>12.000000</td>\n",
       "      <td>3.000000</td>\n",
       "      <td>3.000000</td>\n",
       "      <td>3.000000</td>\n",
       "      <td>0.499900</td>\n",
       "      <td>14999.000000</td>\n",
       "    </tr>\n",
       "    <tr>\n",
       "      <th>25%</th>\n",
       "      <td>-121.790000</td>\n",
       "      <td>33.935000</td>\n",
       "      <td>18.000000</td>\n",
       "      <td>1450.000000</td>\n",
       "      <td>297.000000</td>\n",
       "      <td>791.000000</td>\n",
       "      <td>281.000000</td>\n",
       "      <td>2.559700</td>\n",
       "      <td>118800.000000</td>\n",
       "    </tr>\n",
       "    <tr>\n",
       "      <th>50%</th>\n",
       "      <td>-118.510000</td>\n",
       "      <td>34.260000</td>\n",
       "      <td>29.000000</td>\n",
       "      <td>2130.000000</td>\n",
       "      <td>435.000000</td>\n",
       "      <td>1168.000000</td>\n",
       "      <td>410.000000</td>\n",
       "      <td>3.525600</td>\n",
       "      <td>179200.000000</td>\n",
       "    </tr>\n",
       "    <tr>\n",
       "      <th>75%</th>\n",
       "      <td>-118.010000</td>\n",
       "      <td>37.720000</td>\n",
       "      <td>37.000000</td>\n",
       "      <td>3157.000000</td>\n",
       "      <td>648.000000</td>\n",
       "      <td>1729.000000</td>\n",
       "      <td>606.000000</td>\n",
       "      <td>4.724350</td>\n",
       "      <td>262500.000000</td>\n",
       "    </tr>\n",
       "    <tr>\n",
       "      <th>max</th>\n",
       "      <td>-114.310000</td>\n",
       "      <td>41.950000</td>\n",
       "      <td>52.000000</td>\n",
       "      <td>37937.000000</td>\n",
       "      <td>6445.000000</td>\n",
       "      <td>35682.000000</td>\n",
       "      <td>6082.000000</td>\n",
       "      <td>15.000100</td>\n",
       "      <td>500001.000000</td>\n",
       "    </tr>\n",
       "  </tbody>\n",
       "</table>\n",
       "</div>"
      ],
      "text/plain": [
       "            Kinh_do         Vi_do  Tuoi_trung_binh  Tong_so_phong  \\\n",
       "count  14035.000000  14035.000000     14035.000000   14035.000000   \n",
       "mean    -119.570204     35.641079        28.646028    2645.595369   \n",
       "std        2.007920      2.141460        12.493246    2207.076308   \n",
       "min     -124.350000     32.540000         1.000000      12.000000   \n",
       "25%     -121.790000     33.935000        18.000000    1450.000000   \n",
       "50%     -118.510000     34.260000        29.000000    2130.000000   \n",
       "75%     -118.010000     37.720000        37.000000    3157.000000   \n",
       "max     -114.310000     41.950000        52.000000   37937.000000   \n",
       "\n",
       "       So_phong_ngu        Dan_so  So_ho_gia_dinh  Thu_nhap_trung_binh  \\\n",
       "count  13892.000000  14035.000000    14035.000000         14035.000000   \n",
       "mean     540.165851   1431.556466      501.262059             3.853553   \n",
       "std      424.806658   1159.506364      386.537495             1.881041   \n",
       "min        3.000000      3.000000        3.000000             0.499900   \n",
       "25%      297.000000    791.000000      281.000000             2.559700   \n",
       "50%      435.000000   1168.000000      410.000000             3.525600   \n",
       "75%      648.000000   1729.000000      606.000000             4.724350   \n",
       "max     6445.000000  35682.000000     6082.000000            15.000100   \n",
       "\n",
       "       gia_nha_trung_binh  \n",
       "count        14035.000000  \n",
       "mean        205438.248593  \n",
       "std         114268.000658  \n",
       "min          14999.000000  \n",
       "25%         118800.000000  \n",
       "50%         179200.000000  \n",
       "75%         262500.000000  \n",
       "max         500001.000000  "
      ]
     },
     "execution_count": 11,
     "metadata": {},
     "output_type": "execute_result"
    }
   ],
   "source": [
    "train_set = pd.read_csv(\"data/train_set.csv\")\n",
    "train_set.describe()"
   ]
  },
  {
   "cell_type": "markdown",
   "metadata": {},
   "source": [
    "# Data cleaning\n",
    "\n",
    "Cột So_phong_ngu bị thiếu một số giá trị.\n",
    "+ Bỏ những dòng này.\n",
    "+ Bỏ luôn cột này.\n",
    "+ Đặt giá trị cho chúng thành 0, trung bình, trung vị,..."
   ]
  },
  {
   "cell_type": "code",
   "execution_count": 12,
   "metadata": {},
   "outputs": [
    {
     "data": {
      "text/plain": [
       "435.0"
      ]
     },
     "execution_count": 12,
     "metadata": {},
     "output_type": "execute_result"
    }
   ],
   "source": [
    "# Tính trung vị\n",
    "median = train_set[\"So_phong_ngu\"].median()\n",
    "median"
   ]
  },
  {
   "cell_type": "code",
   "execution_count": 13,
   "metadata": {},
   "outputs": [],
   "source": [
    "trainset_fill = train_set.fillna({'So_phong_ngu':median}) #them gia tri trung vi."
   ]
  },
  {
   "cell_type": "code",
   "execution_count": 14,
   "metadata": {},
   "outputs": [
    {
     "data": {
      "text/html": [
       "<div>\n",
       "<style scoped>\n",
       "    .dataframe tbody tr th:only-of-type {\n",
       "        vertical-align: middle;\n",
       "    }\n",
       "\n",
       "    .dataframe tbody tr th {\n",
       "        vertical-align: top;\n",
       "    }\n",
       "\n",
       "    .dataframe thead th {\n",
       "        text-align: right;\n",
       "    }\n",
       "</style>\n",
       "<table border=\"1\" class=\"dataframe\">\n",
       "  <thead>\n",
       "    <tr style=\"text-align: right;\">\n",
       "      <th></th>\n",
       "      <th>Kinh_do</th>\n",
       "      <th>Vi_do</th>\n",
       "      <th>Tuoi_trung_binh</th>\n",
       "      <th>Tong_so_phong</th>\n",
       "      <th>So_phong_ngu</th>\n",
       "      <th>Dan_so</th>\n",
       "      <th>So_ho_gia_dinh</th>\n",
       "      <th>Thu_nhap_trung_binh</th>\n",
       "      <th>gia_nha_trung_binh</th>\n",
       "    </tr>\n",
       "  </thead>\n",
       "  <tbody>\n",
       "    <tr>\n",
       "      <th>count</th>\n",
       "      <td>14035.000000</td>\n",
       "      <td>14035.000000</td>\n",
       "      <td>14035.000000</td>\n",
       "      <td>14035.000000</td>\n",
       "      <td>14035.000000</td>\n",
       "      <td>14035.000000</td>\n",
       "      <td>14035.000000</td>\n",
       "      <td>14035.000000</td>\n",
       "      <td>14035.000000</td>\n",
       "    </tr>\n",
       "    <tr>\n",
       "      <th>mean</th>\n",
       "      <td>-119.570204</td>\n",
       "      <td>35.641079</td>\n",
       "      <td>28.646028</td>\n",
       "      <td>2645.595369</td>\n",
       "      <td>539.094336</td>\n",
       "      <td>1431.556466</td>\n",
       "      <td>501.262059</td>\n",
       "      <td>3.853553</td>\n",
       "      <td>205438.248593</td>\n",
       "    </tr>\n",
       "    <tr>\n",
       "      <th>std</th>\n",
       "      <td>2.007920</td>\n",
       "      <td>2.141460</td>\n",
       "      <td>12.493246</td>\n",
       "      <td>2207.076308</td>\n",
       "      <td>422.768769</td>\n",
       "      <td>1159.506364</td>\n",
       "      <td>386.537495</td>\n",
       "      <td>1.881041</td>\n",
       "      <td>114268.000658</td>\n",
       "    </tr>\n",
       "    <tr>\n",
       "      <th>min</th>\n",
       "      <td>-124.350000</td>\n",
       "      <td>32.540000</td>\n",
       "      <td>1.000000</td>\n",
       "      <td>12.000000</td>\n",
       "      <td>3.000000</td>\n",
       "      <td>3.000000</td>\n",
       "      <td>3.000000</td>\n",
       "      <td>0.499900</td>\n",
       "      <td>14999.000000</td>\n",
       "    </tr>\n",
       "    <tr>\n",
       "      <th>25%</th>\n",
       "      <td>-121.790000</td>\n",
       "      <td>33.935000</td>\n",
       "      <td>18.000000</td>\n",
       "      <td>1450.000000</td>\n",
       "      <td>299.000000</td>\n",
       "      <td>791.000000</td>\n",
       "      <td>281.000000</td>\n",
       "      <td>2.559700</td>\n",
       "      <td>118800.000000</td>\n",
       "    </tr>\n",
       "    <tr>\n",
       "      <th>50%</th>\n",
       "      <td>-118.510000</td>\n",
       "      <td>34.260000</td>\n",
       "      <td>29.000000</td>\n",
       "      <td>2130.000000</td>\n",
       "      <td>435.000000</td>\n",
       "      <td>1168.000000</td>\n",
       "      <td>410.000000</td>\n",
       "      <td>3.525600</td>\n",
       "      <td>179200.000000</td>\n",
       "    </tr>\n",
       "    <tr>\n",
       "      <th>75%</th>\n",
       "      <td>-118.010000</td>\n",
       "      <td>37.720000</td>\n",
       "      <td>37.000000</td>\n",
       "      <td>3157.000000</td>\n",
       "      <td>645.000000</td>\n",
       "      <td>1729.000000</td>\n",
       "      <td>606.000000</td>\n",
       "      <td>4.724350</td>\n",
       "      <td>262500.000000</td>\n",
       "    </tr>\n",
       "    <tr>\n",
       "      <th>max</th>\n",
       "      <td>-114.310000</td>\n",
       "      <td>41.950000</td>\n",
       "      <td>52.000000</td>\n",
       "      <td>37937.000000</td>\n",
       "      <td>6445.000000</td>\n",
       "      <td>35682.000000</td>\n",
       "      <td>6082.000000</td>\n",
       "      <td>15.000100</td>\n",
       "      <td>500001.000000</td>\n",
       "    </tr>\n",
       "  </tbody>\n",
       "</table>\n",
       "</div>"
      ],
      "text/plain": [
       "            Kinh_do         Vi_do  Tuoi_trung_binh  Tong_so_phong  \\\n",
       "count  14035.000000  14035.000000     14035.000000   14035.000000   \n",
       "mean    -119.570204     35.641079        28.646028    2645.595369   \n",
       "std        2.007920      2.141460        12.493246    2207.076308   \n",
       "min     -124.350000     32.540000         1.000000      12.000000   \n",
       "25%     -121.790000     33.935000        18.000000    1450.000000   \n",
       "50%     -118.510000     34.260000        29.000000    2130.000000   \n",
       "75%     -118.010000     37.720000        37.000000    3157.000000   \n",
       "max     -114.310000     41.950000        52.000000   37937.000000   \n",
       "\n",
       "       So_phong_ngu        Dan_so  So_ho_gia_dinh  Thu_nhap_trung_binh  \\\n",
       "count  14035.000000  14035.000000    14035.000000         14035.000000   \n",
       "mean     539.094336   1431.556466      501.262059             3.853553   \n",
       "std      422.768769   1159.506364      386.537495             1.881041   \n",
       "min        3.000000      3.000000        3.000000             0.499900   \n",
       "25%      299.000000    791.000000      281.000000             2.559700   \n",
       "50%      435.000000   1168.000000      410.000000             3.525600   \n",
       "75%      645.000000   1729.000000      606.000000             4.724350   \n",
       "max     6445.000000  35682.000000     6082.000000            15.000100   \n",
       "\n",
       "       gia_nha_trung_binh  \n",
       "count        14035.000000  \n",
       "mean        205438.248593  \n",
       "std         114268.000658  \n",
       "min          14999.000000  \n",
       "25%         118800.000000  \n",
       "50%         179200.000000  \n",
       "75%         262500.000000  \n",
       "max         500001.000000  "
      ]
     },
     "execution_count": 14,
     "metadata": {},
     "output_type": "execute_result"
    }
   ],
   "source": [
    "trainset_fill.describe()"
   ]
  },
  {
   "cell_type": "raw",
   "metadata": {},
   "source": [
    "['<1H OCEAN', 'INLAND', 'ISLAND', 'NEAR BAY', 'NEAR OCEAN']\n",
    "[2,1,3,5,4]"
   ]
  },
  {
   "cell_type": "code",
   "execution_count": 15,
   "metadata": {},
   "outputs": [],
   "source": [
    "gan_bien = trainset_fill[\"Gan_bien\"]"
   ]
  },
  {
   "cell_type": "markdown",
   "metadata": {},
   "source": [
    "cột Gan_bien có giá trị là text, ta sẽ encode nó thành các con số."
   ]
  },
  {
   "cell_type": "code",
   "execution_count": 16,
   "metadata": {},
   "outputs": [],
   "source": [
    "encode_object = {\n",
    "    'INLAND':1,\n",
    "    '<1H OCEAN': 2,\n",
    "    'ISLAND': 3,\n",
    "    'NEAR OCEAN': 4,\n",
    "    'NEAR BAY': 5\n",
    "}\n",
    "\n",
    "gan_bien_encode = [encode_object[item] for item in gan_bien]\n"
   ]
  },
  {
   "cell_type": "markdown",
   "metadata": {},
   "source": [
    "gán lại giá trị cột Gan_bien bằng giá trị đã được encode"
   ]
  },
  {
   "cell_type": "code",
   "execution_count": 17,
   "metadata": {},
   "outputs": [],
   "source": [
    "trainset_fill[\"Gan_bien\"] = gan_bien_encode"
   ]
  },
  {
   "cell_type": "code",
   "execution_count": 18,
   "metadata": {},
   "outputs": [
    {
     "name": "stdout",
     "output_type": "stream",
     "text": [
      "<class 'pandas.core.frame.DataFrame'>\n",
      "RangeIndex: 14035 entries, 0 to 14034\n",
      "Data columns (total 10 columns):\n",
      "Kinh_do                14035 non-null float64\n",
      "Vi_do                  14035 non-null float64\n",
      "Tuoi_trung_binh        14035 non-null int64\n",
      "Tong_so_phong          14035 non-null int64\n",
      "So_phong_ngu           14035 non-null float64\n",
      "Dan_so                 14035 non-null int64\n",
      "So_ho_gia_dinh         14035 non-null int64\n",
      "Thu_nhap_trung_binh    14035 non-null float64\n",
      "Gan_bien               14035 non-null int64\n",
      "gia_nha_trung_binh     14035 non-null int64\n",
      "dtypes: float64(4), int64(6)\n",
      "memory usage: 1.1 MB\n"
     ]
    }
   ],
   "source": [
    "trainset_fill.info()"
   ]
  },
  {
   "cell_type": "code",
   "execution_count": 19,
   "metadata": {},
   "outputs": [
    {
     "data": {
      "text/html": [
       "<div>\n",
       "<style scoped>\n",
       "    .dataframe tbody tr th:only-of-type {\n",
       "        vertical-align: middle;\n",
       "    }\n",
       "\n",
       "    .dataframe tbody tr th {\n",
       "        vertical-align: top;\n",
       "    }\n",
       "\n",
       "    .dataframe thead th {\n",
       "        text-align: right;\n",
       "    }\n",
       "</style>\n",
       "<table border=\"1\" class=\"dataframe\">\n",
       "  <thead>\n",
       "    <tr style=\"text-align: right;\">\n",
       "      <th></th>\n",
       "      <th>Kinh_do</th>\n",
       "      <th>Vi_do</th>\n",
       "      <th>Tuoi_trung_binh</th>\n",
       "      <th>Tong_so_phong</th>\n",
       "      <th>So_phong_ngu</th>\n",
       "      <th>Dan_so</th>\n",
       "      <th>So_ho_gia_dinh</th>\n",
       "      <th>Thu_nhap_trung_binh</th>\n",
       "      <th>Gan_bien</th>\n",
       "      <th>gia_nha_trung_binh</th>\n",
       "    </tr>\n",
       "  </thead>\n",
       "  <tbody>\n",
       "    <tr>\n",
       "      <th>count</th>\n",
       "      <td>14035.000000</td>\n",
       "      <td>14035.000000</td>\n",
       "      <td>14035.000000</td>\n",
       "      <td>14035.000000</td>\n",
       "      <td>14035.000000</td>\n",
       "      <td>14035.000000</td>\n",
       "      <td>14035.000000</td>\n",
       "      <td>14035.000000</td>\n",
       "      <td>14035.000000</td>\n",
       "      <td>14035.000000</td>\n",
       "    </tr>\n",
       "    <tr>\n",
       "      <th>mean</th>\n",
       "      <td>-119.570204</td>\n",
       "      <td>35.641079</td>\n",
       "      <td>28.646028</td>\n",
       "      <td>2645.595369</td>\n",
       "      <td>539.094336</td>\n",
       "      <td>1431.556466</td>\n",
       "      <td>501.262059</td>\n",
       "      <td>3.853553</td>\n",
       "      <td>2.266334</td>\n",
       "      <td>205438.248593</td>\n",
       "    </tr>\n",
       "    <tr>\n",
       "      <th>std</th>\n",
       "      <td>2.007920</td>\n",
       "      <td>2.141460</td>\n",
       "      <td>12.493246</td>\n",
       "      <td>2207.076308</td>\n",
       "      <td>422.768769</td>\n",
       "      <td>1159.506364</td>\n",
       "      <td>386.537495</td>\n",
       "      <td>1.881041</td>\n",
       "      <td>1.324785</td>\n",
       "      <td>114268.000658</td>\n",
       "    </tr>\n",
       "    <tr>\n",
       "      <th>min</th>\n",
       "      <td>-124.350000</td>\n",
       "      <td>32.540000</td>\n",
       "      <td>1.000000</td>\n",
       "      <td>12.000000</td>\n",
       "      <td>3.000000</td>\n",
       "      <td>3.000000</td>\n",
       "      <td>3.000000</td>\n",
       "      <td>0.499900</td>\n",
       "      <td>1.000000</td>\n",
       "      <td>14999.000000</td>\n",
       "    </tr>\n",
       "    <tr>\n",
       "      <th>25%</th>\n",
       "      <td>-121.790000</td>\n",
       "      <td>33.935000</td>\n",
       "      <td>18.000000</td>\n",
       "      <td>1450.000000</td>\n",
       "      <td>299.000000</td>\n",
       "      <td>791.000000</td>\n",
       "      <td>281.000000</td>\n",
       "      <td>2.559700</td>\n",
       "      <td>1.000000</td>\n",
       "      <td>118800.000000</td>\n",
       "    </tr>\n",
       "    <tr>\n",
       "      <th>50%</th>\n",
       "      <td>-118.510000</td>\n",
       "      <td>34.260000</td>\n",
       "      <td>29.000000</td>\n",
       "      <td>2130.000000</td>\n",
       "      <td>435.000000</td>\n",
       "      <td>1168.000000</td>\n",
       "      <td>410.000000</td>\n",
       "      <td>3.525600</td>\n",
       "      <td>2.000000</td>\n",
       "      <td>179200.000000</td>\n",
       "    </tr>\n",
       "    <tr>\n",
       "      <th>75%</th>\n",
       "      <td>-118.010000</td>\n",
       "      <td>37.720000</td>\n",
       "      <td>37.000000</td>\n",
       "      <td>3157.000000</td>\n",
       "      <td>645.000000</td>\n",
       "      <td>1729.000000</td>\n",
       "      <td>606.000000</td>\n",
       "      <td>4.724350</td>\n",
       "      <td>2.000000</td>\n",
       "      <td>262500.000000</td>\n",
       "    </tr>\n",
       "    <tr>\n",
       "      <th>max</th>\n",
       "      <td>-114.310000</td>\n",
       "      <td>41.950000</td>\n",
       "      <td>52.000000</td>\n",
       "      <td>37937.000000</td>\n",
       "      <td>6445.000000</td>\n",
       "      <td>35682.000000</td>\n",
       "      <td>6082.000000</td>\n",
       "      <td>15.000100</td>\n",
       "      <td>5.000000</td>\n",
       "      <td>500001.000000</td>\n",
       "    </tr>\n",
       "  </tbody>\n",
       "</table>\n",
       "</div>"
      ],
      "text/plain": [
       "            Kinh_do         Vi_do  Tuoi_trung_binh  Tong_so_phong  \\\n",
       "count  14035.000000  14035.000000     14035.000000   14035.000000   \n",
       "mean    -119.570204     35.641079        28.646028    2645.595369   \n",
       "std        2.007920      2.141460        12.493246    2207.076308   \n",
       "min     -124.350000     32.540000         1.000000      12.000000   \n",
       "25%     -121.790000     33.935000        18.000000    1450.000000   \n",
       "50%     -118.510000     34.260000        29.000000    2130.000000   \n",
       "75%     -118.010000     37.720000        37.000000    3157.000000   \n",
       "max     -114.310000     41.950000        52.000000   37937.000000   \n",
       "\n",
       "       So_phong_ngu        Dan_so  So_ho_gia_dinh  Thu_nhap_trung_binh  \\\n",
       "count  14035.000000  14035.000000    14035.000000         14035.000000   \n",
       "mean     539.094336   1431.556466      501.262059             3.853553   \n",
       "std      422.768769   1159.506364      386.537495             1.881041   \n",
       "min        3.000000      3.000000        3.000000             0.499900   \n",
       "25%      299.000000    791.000000      281.000000             2.559700   \n",
       "50%      435.000000   1168.000000      410.000000             3.525600   \n",
       "75%      645.000000   1729.000000      606.000000             4.724350   \n",
       "max     6445.000000  35682.000000     6082.000000            15.000100   \n",
       "\n",
       "           Gan_bien  gia_nha_trung_binh  \n",
       "count  14035.000000        14035.000000  \n",
       "mean       2.266334       205438.248593  \n",
       "std        1.324785       114268.000658  \n",
       "min        1.000000        14999.000000  \n",
       "25%        1.000000       118800.000000  \n",
       "50%        2.000000       179200.000000  \n",
       "75%        2.000000       262500.000000  \n",
       "max        5.000000       500001.000000  "
      ]
     },
     "execution_count": 19,
     "metadata": {},
     "output_type": "execute_result"
    }
   ],
   "source": [
    "trainset_fill.describe()"
   ]
  },
  {
   "cell_type": "markdown",
   "metadata": {},
   "source": [
    "* Tách cột gia_nha_trung_binh ra làm label.\n",
    "* Dữ liệu trainset_data bao gồm các cột còn lại "
   ]
  },
  {
   "cell_type": "code",
   "execution_count": 20,
   "metadata": {},
   "outputs": [],
   "source": [
    "train_label = trainset_fill[\"gia_nha_trung_binh\"]\n",
    "trainset_data = trainset_fill.drop(\"gia_nha_trung_binh\", axis=1)"
   ]
  },
  {
   "cell_type": "markdown",
   "metadata": {},
   "source": [
    "Chuẩn hóa dữ liệu (feature scaling)"
   ]
  },
  {
   "cell_type": "code",
   "execution_count": 21,
   "metadata": {},
   "outputs": [
    {
     "name": "stderr",
     "output_type": "stream",
     "text": [
      "/home/linhph/.local/lib/python3.6/site-packages/sklearn/preprocessing/data.py:645: DataConversionWarning: Data with input dtype int64, float64 were all converted to float64 by StandardScaler.\n",
      "  return self.partial_fit(X, y)\n",
      "/home/linhph/.local/lib/python3.6/site-packages/sklearn/base.py:464: DataConversionWarning: Data with input dtype int64, float64 were all converted to float64 by StandardScaler.\n",
      "  return self.fit(X, **fit_params).transform(X)\n"
     ]
    }
   ],
   "source": [
    "from sklearn.preprocessing import StandardScaler\n",
    "scaler = StandardScaler()\n",
    "trainset_scale = scaler.fit_transform(trainset_data)"
   ]
  },
  {
   "cell_type": "code",
   "execution_count": 22,
   "metadata": {},
   "outputs": [
    {
     "data": {
      "text/plain": [
       "array([[-0.84657599,  1.38644988, -0.93221912, ...,  2.06387834,\n",
       "        -0.48291632, -0.95591312],\n",
       "       [-0.89140009,  1.42380891, -1.25240353, ...,  2.37951226,\n",
       "        -0.08221955, -0.95591312],\n",
       "       [ 0.36367476, -0.68697625, -1.01226522, ...,  0.81427846,\n",
       "        -0.33809769, -0.20104671],\n",
       "       ...,\n",
       "       [ 0.75713077, -0.73834492,  1.30907172, ..., -0.8673777 ,\n",
       "        -0.91067354, -0.20104671],\n",
       "       [ 0.82187669, -0.76169431,  0.5086107 , ...,  0.29425863,\n",
       "        -0.25441762, -0.20104671],\n",
       "       [-0.07460535, -0.57022929,  0.66870291, ..., -0.24128418,\n",
       "        -0.13984928,  1.3086861 ]])"
      ]
     },
     "execution_count": 22,
     "metadata": {},
     "output_type": "execute_result"
    }
   ],
   "source": [
    "trainset_scale"
   ]
  },
  {
   "cell_type": "code",
   "execution_count": 23,
   "metadata": {},
   "outputs": [],
   "source": [
    "import numpy as np\n",
    "trainset_scale_pd = pd.DataFrame(np.array(trainset_scale), columns=[\"Kinh_do\",\"Vi_do\",\"Tuoi_trung_binh\",\"Tong_so_phong\",\"So_phong_ngu\",\"Dan_so\",\"So_ho_gia_dinh\",\"Thu_nhap_trung_binh\",\"Gan_bien\"])"
   ]
  },
  {
   "cell_type": "code",
   "execution_count": 24,
   "metadata": {},
   "outputs": [
    {
     "data": {
      "text/html": [
       "<div>\n",
       "<style scoped>\n",
       "    .dataframe tbody tr th:only-of-type {\n",
       "        vertical-align: middle;\n",
       "    }\n",
       "\n",
       "    .dataframe tbody tr th {\n",
       "        vertical-align: top;\n",
       "    }\n",
       "\n",
       "    .dataframe thead th {\n",
       "        text-align: right;\n",
       "    }\n",
       "</style>\n",
       "<table border=\"1\" class=\"dataframe\">\n",
       "  <thead>\n",
       "    <tr style=\"text-align: right;\">\n",
       "      <th></th>\n",
       "      <th>Kinh_do</th>\n",
       "      <th>Vi_do</th>\n",
       "      <th>Tuoi_trung_binh</th>\n",
       "      <th>Tong_so_phong</th>\n",
       "      <th>So_phong_ngu</th>\n",
       "      <th>Dan_so</th>\n",
       "      <th>So_ho_gia_dinh</th>\n",
       "      <th>Thu_nhap_trung_binh</th>\n",
       "      <th>Gan_bien</th>\n",
       "    </tr>\n",
       "  </thead>\n",
       "  <tbody>\n",
       "    <tr>\n",
       "      <th>0</th>\n",
       "      <td>-0.846576</td>\n",
       "      <td>1.386450</td>\n",
       "      <td>-0.932219</td>\n",
       "      <td>1.820303</td>\n",
       "      <td>1.963095</td>\n",
       "      <td>1.214736</td>\n",
       "      <td>2.063878</td>\n",
       "      <td>-0.482916</td>\n",
       "      <td>-0.955913</td>\n",
       "    </tr>\n",
       "    <tr>\n",
       "      <th>1</th>\n",
       "      <td>-0.891400</td>\n",
       "      <td>1.423809</td>\n",
       "      <td>-1.252404</td>\n",
       "      <td>1.905034</td>\n",
       "      <td>2.036424</td>\n",
       "      <td>2.431676</td>\n",
       "      <td>2.379512</td>\n",
       "      <td>-0.082220</td>\n",
       "      <td>-0.955913</td>\n",
       "    </tr>\n",
       "    <tr>\n",
       "      <th>2</th>\n",
       "      <td>0.363675</td>\n",
       "      <td>-0.686976</td>\n",
       "      <td>-1.012265</td>\n",
       "      <td>0.364026</td>\n",
       "      <td>0.664466</td>\n",
       "      <td>0.384180</td>\n",
       "      <td>0.814278</td>\n",
       "      <td>-0.338098</td>\n",
       "      <td>-0.201047</td>\n",
       "    </tr>\n",
       "    <tr>\n",
       "      <th>3</th>\n",
       "      <td>0.767092</td>\n",
       "      <td>-0.700986</td>\n",
       "      <td>0.188426</td>\n",
       "      <td>0.773632</td>\n",
       "      <td>1.367003</td>\n",
       "      <td>0.781777</td>\n",
       "      <td>1.386042</td>\n",
       "      <td>-0.415132</td>\n",
       "      <td>-0.955913</td>\n",
       "    </tr>\n",
       "    <tr>\n",
       "      <th>4</th>\n",
       "      <td>-1.334661</td>\n",
       "      <td>1.036209</td>\n",
       "      <td>1.549210</td>\n",
       "      <td>-0.223197</td>\n",
       "      <td>-0.052263</td>\n",
       "      <td>0.193575</td>\n",
       "      <td>-0.109339</td>\n",
       "      <td>-0.431613</td>\n",
       "      <td>2.063553</td>\n",
       "    </tr>\n",
       "    <tr>\n",
       "      <th>5</th>\n",
       "      <td>-1.344622</td>\n",
       "      <td>1.092248</td>\n",
       "      <td>-0.451943</td>\n",
       "      <td>0.366745</td>\n",
       "      <td>-0.142150</td>\n",
       "      <td>-0.048778</td>\n",
       "      <td>-0.070531</td>\n",
       "      <td>1.156501</td>\n",
       "      <td>2.063553</td>\n",
       "    </tr>\n",
       "    <tr>\n",
       "      <th>6</th>\n",
       "      <td>0.851759</td>\n",
       "      <td>-0.864432</td>\n",
       "      <td>0.428565</td>\n",
       "      <td>-0.345535</td>\n",
       "      <td>-0.310096</td>\n",
       "      <td>-0.176423</td>\n",
       "      <td>-0.199890</td>\n",
       "      <td>0.020919</td>\n",
       "      <td>-0.201047</td>\n",
       "    </tr>\n",
       "    <tr>\n",
       "      <th>7</th>\n",
       "      <td>0.717287</td>\n",
       "      <td>-0.878441</td>\n",
       "      <td>1.229026</td>\n",
       "      <td>-0.499591</td>\n",
       "      <td>-0.179997</td>\n",
       "      <td>-0.672341</td>\n",
       "      <td>-0.246459</td>\n",
       "      <td>0.210767</td>\n",
       "      <td>1.308686</td>\n",
       "    </tr>\n",
       "    <tr>\n",
       "      <th>8</th>\n",
       "      <td>-0.438179</td>\n",
       "      <td>-0.434803</td>\n",
       "      <td>-0.612035</td>\n",
       "      <td>-0.352332</td>\n",
       "      <td>-0.641258</td>\n",
       "      <td>-0.784462</td>\n",
       "      <td>-0.637120</td>\n",
       "      <td>1.389837</td>\n",
       "      <td>1.308686</td>\n",
       "    </tr>\n",
       "    <tr>\n",
       "      <th>9</th>\n",
       "      <td>-1.444231</td>\n",
       "      <td>0.868093</td>\n",
       "      <td>-0.852173</td>\n",
       "      <td>-0.157950</td>\n",
       "      <td>-0.291173</td>\n",
       "      <td>-0.298031</td>\n",
       "      <td>-0.311138</td>\n",
       "      <td>0.543042</td>\n",
       "      <td>1.308686</td>\n",
       "    </tr>\n",
       "  </tbody>\n",
       "</table>\n",
       "</div>"
      ],
      "text/plain": [
       "    Kinh_do     Vi_do  Tuoi_trung_binh  Tong_so_phong  So_phong_ngu    Dan_so  \\\n",
       "0 -0.846576  1.386450        -0.932219       1.820303      1.963095  1.214736   \n",
       "1 -0.891400  1.423809        -1.252404       1.905034      2.036424  2.431676   \n",
       "2  0.363675 -0.686976        -1.012265       0.364026      0.664466  0.384180   \n",
       "3  0.767092 -0.700986         0.188426       0.773632      1.367003  0.781777   \n",
       "4 -1.334661  1.036209         1.549210      -0.223197     -0.052263  0.193575   \n",
       "5 -1.344622  1.092248        -0.451943       0.366745     -0.142150 -0.048778   \n",
       "6  0.851759 -0.864432         0.428565      -0.345535     -0.310096 -0.176423   \n",
       "7  0.717287 -0.878441         1.229026      -0.499591     -0.179997 -0.672341   \n",
       "8 -0.438179 -0.434803        -0.612035      -0.352332     -0.641258 -0.784462   \n",
       "9 -1.444231  0.868093        -0.852173      -0.157950     -0.291173 -0.298031   \n",
       "\n",
       "   So_ho_gia_dinh  Thu_nhap_trung_binh  Gan_bien  \n",
       "0        2.063878            -0.482916 -0.955913  \n",
       "1        2.379512            -0.082220 -0.955913  \n",
       "2        0.814278            -0.338098 -0.201047  \n",
       "3        1.386042            -0.415132 -0.955913  \n",
       "4       -0.109339            -0.431613  2.063553  \n",
       "5       -0.070531             1.156501  2.063553  \n",
       "6       -0.199890             0.020919 -0.201047  \n",
       "7       -0.246459             0.210767  1.308686  \n",
       "8       -0.637120             1.389837  1.308686  \n",
       "9       -0.311138             0.543042  1.308686  "
      ]
     },
     "execution_count": 24,
     "metadata": {},
     "output_type": "execute_result"
    }
   ],
   "source": [
    "trainset_scale_pd.head(10)"
   ]
  },
  {
   "cell_type": "markdown",
   "metadata": {},
   "source": [
    "Tiến hành training bằng model LinearRegression"
   ]
  },
  {
   "cell_type": "code",
   "execution_count": 25,
   "metadata": {},
   "outputs": [],
   "source": [
    "from sklearn.linear_model import LinearRegression\n",
    "linear = LinearRegression()"
   ]
  },
  {
   "cell_type": "code",
   "execution_count": 26,
   "metadata": {},
   "outputs": [
    {
     "data": {
      "text/plain": [
       "LinearRegression(copy_X=True, fit_intercept=True, n_jobs=None,\n",
       "         normalize=False)"
      ]
     },
     "execution_count": 26,
     "metadata": {},
     "output_type": "execute_result"
    }
   ],
   "source": [
    "linear.fit(trainset_scale_pd, train_label)"
   ]
  },
  {
   "cell_type": "markdown",
   "metadata": {},
   "source": [
    "Hàm tổng hợp tiền xử lý dữ liệu cho test data"
   ]
  },
  {
   "cell_type": "code",
   "execution_count": 27,
   "metadata": {},
   "outputs": [],
   "source": [
    "def preprocess_data(data):\n",
    "    data_fill = data.fillna({'So_phong_ngu':median})\n",
    "    gan_bien = data_fill[\"Gan_bien\"]\n",
    "    gan_bien_encoder = [encode_object[item] for item in gan_bien]\n",
    "    data_fill[\"Gan_bien\"] = gan_bien_encoder\n",
    "    scaler_data = StandardScaler()\n",
    "    data_scale = scaler_data.fit_transform(data_fill)\n",
    "    data_scale_pd = pd.DataFrame(np.array(data_scale), columns=[\"Kinh_do\",\"Vi_do\",\"Tuoi_trung_binh\",\"Tong_so_phong\",\"So_phong_ngu\",\"Dan_so\",\"So_ho_gia_dinh\",\"Thu_nhap_trung_binh\",\"Gan_bien\"])\n",
    "    return data_scale_pd"
   ]
  },
  {
   "cell_type": "markdown",
   "metadata": {},
   "source": [
    "Tách label, data của test data:"
   ]
  },
  {
   "cell_type": "code",
   "execution_count": 28,
   "metadata": {},
   "outputs": [],
   "source": [
    "test_dataset = pd.read_csv(\"data/test_set.csv\")\n",
    "test_label = test_dataset[\"gia_nha_trung_binh\"]\n",
    "test_data = test_dataset.drop(\"gia_nha_trung_binh\", axis=1)"
   ]
  },
  {
   "cell_type": "code",
   "execution_count": 29,
   "metadata": {},
   "outputs": [
    {
     "name": "stderr",
     "output_type": "stream",
     "text": [
      "/home/linhph/.local/lib/python3.6/site-packages/sklearn/preprocessing/data.py:645: DataConversionWarning: Data with input dtype int64, float64 were all converted to float64 by StandardScaler.\n",
      "  return self.partial_fit(X, y)\n",
      "/home/linhph/.local/lib/python3.6/site-packages/sklearn/base.py:464: DataConversionWarning: Data with input dtype int64, float64 were all converted to float64 by StandardScaler.\n",
      "  return self.fit(X, **fit_params).transform(X)\n"
     ]
    }
   ],
   "source": [
    "test_data = preprocess_data(test_data)"
   ]
  },
  {
   "cell_type": "markdown",
   "metadata": {},
   "source": [
    "Tiến hành predict test data:"
   ]
  },
  {
   "cell_type": "code",
   "execution_count": 30,
   "metadata": {},
   "outputs": [],
   "source": [
    "test_result = linear.predict(test_data)"
   ]
  },
  {
   "cell_type": "code",
   "execution_count": 31,
   "metadata": {},
   "outputs": [
    {
     "data": {
      "text/plain": [
       "array([ 65800, 218300, 289600, ..., 150000, 173300,  87900])"
      ]
     },
     "execution_count": 31,
     "metadata": {},
     "output_type": "execute_result"
    }
   ],
   "source": [
    "test_label = np.array(test_label)\n",
    "test_label"
   ]
  },
  {
   "cell_type": "code",
   "execution_count": 32,
   "metadata": {},
   "outputs": [
    {
     "data": {
      "text/plain": [
       "array([134075.29076842, 255590.87835484, 248966.52484018, ...,\n",
       "       162921.75774425, 240065.81973195, 118155.87487524])"
      ]
     },
     "execution_count": 32,
     "metadata": {},
     "output_type": "execute_result"
    }
   ],
   "source": [
    "test_result"
   ]
  },
  {
   "cell_type": "markdown",
   "metadata": {},
   "source": [
    "# Tính root mean square error:"
   ]
  },
  {
   "cell_type": "code",
   "execution_count": 33,
   "metadata": {},
   "outputs": [],
   "source": [
    "from sklearn.metrics import mean_squared_error"
   ]
  },
  {
   "cell_type": "code",
   "execution_count": 34,
   "metadata": {
    "scrolled": true
   },
   "outputs": [
    {
     "data": {
      "text/plain": [
       "70556.3084047222"
      ]
     },
     "execution_count": 34,
     "metadata": {},
     "output_type": "execute_result"
    }
   ],
   "source": [
    "import math\n",
    "err = mean_squared_error(test_result, test_label)\n",
    "rmse = math.sqrt(err)\n",
    "rmse"
   ]
  },
  {
   "cell_type": "code",
   "execution_count": 35,
   "metadata": {},
   "outputs": [],
   "source": [
    "def one_hot_encode(ganbien_data_pd):\n",
    "    encode_obj = {\n",
    "        'INLAND':[1,0,0,0,0],\n",
    "        '<1H OCEAN': [0,1,0,0,0],\n",
    "        'ISLAND': [0,0,1,0,0],\n",
    "        'NEAR OCEAN': [0,0,0,1,0],\n",
    "        'NEAR BAY': [0,0,0,0,1]\n",
    "    }\n",
    "    gan_bien_encode = [encode_obj[item] for item in ganbien_data_pd]\n",
    "    gan_bien_encode = pd.DataFrame(gan_bien_encode, columns= ['INLAND', '<1H OCEAN','ISLAND', 'NEAR OCEAN','NEAR BAY'])\n",
    "    return gan_bien_encode"
   ]
  },
  {
   "cell_type": "code",
   "execution_count": 36,
   "metadata": {},
   "outputs": [
    {
     "data": {
      "text/html": [
       "<div>\n",
       "<style scoped>\n",
       "    .dataframe tbody tr th:only-of-type {\n",
       "        vertical-align: middle;\n",
       "    }\n",
       "\n",
       "    .dataframe tbody tr th {\n",
       "        vertical-align: top;\n",
       "    }\n",
       "\n",
       "    .dataframe thead th {\n",
       "        text-align: right;\n",
       "    }\n",
       "</style>\n",
       "<table border=\"1\" class=\"dataframe\">\n",
       "  <thead>\n",
       "    <tr style=\"text-align: right;\">\n",
       "      <th></th>\n",
       "      <th>INLAND</th>\n",
       "      <th>&lt;1H OCEAN</th>\n",
       "      <th>ISLAND</th>\n",
       "      <th>NEAR OCEAN</th>\n",
       "      <th>NEAR BAY</th>\n",
       "    </tr>\n",
       "  </thead>\n",
       "  <tbody>\n",
       "    <tr>\n",
       "      <th>count</th>\n",
       "      <td>14035.000000</td>\n",
       "      <td>14035.000000</td>\n",
       "      <td>14035.000000</td>\n",
       "      <td>14035.000000</td>\n",
       "      <td>14035.000000</td>\n",
       "    </tr>\n",
       "    <tr>\n",
       "      <th>mean</th>\n",
       "      <td>0.321482</td>\n",
       "      <td>0.439330</td>\n",
       "      <td>0.000214</td>\n",
       "      <td>0.129320</td>\n",
       "      <td>0.109654</td>\n",
       "    </tr>\n",
       "    <tr>\n",
       "      <th>std</th>\n",
       "      <td>0.467062</td>\n",
       "      <td>0.496323</td>\n",
       "      <td>0.014619</td>\n",
       "      <td>0.335565</td>\n",
       "      <td>0.312470</td>\n",
       "    </tr>\n",
       "    <tr>\n",
       "      <th>min</th>\n",
       "      <td>0.000000</td>\n",
       "      <td>0.000000</td>\n",
       "      <td>0.000000</td>\n",
       "      <td>0.000000</td>\n",
       "      <td>0.000000</td>\n",
       "    </tr>\n",
       "    <tr>\n",
       "      <th>25%</th>\n",
       "      <td>0.000000</td>\n",
       "      <td>0.000000</td>\n",
       "      <td>0.000000</td>\n",
       "      <td>0.000000</td>\n",
       "      <td>0.000000</td>\n",
       "    </tr>\n",
       "    <tr>\n",
       "      <th>50%</th>\n",
       "      <td>0.000000</td>\n",
       "      <td>0.000000</td>\n",
       "      <td>0.000000</td>\n",
       "      <td>0.000000</td>\n",
       "      <td>0.000000</td>\n",
       "    </tr>\n",
       "    <tr>\n",
       "      <th>75%</th>\n",
       "      <td>1.000000</td>\n",
       "      <td>1.000000</td>\n",
       "      <td>0.000000</td>\n",
       "      <td>0.000000</td>\n",
       "      <td>0.000000</td>\n",
       "    </tr>\n",
       "    <tr>\n",
       "      <th>max</th>\n",
       "      <td>1.000000</td>\n",
       "      <td>1.000000</td>\n",
       "      <td>1.000000</td>\n",
       "      <td>1.000000</td>\n",
       "      <td>1.000000</td>\n",
       "    </tr>\n",
       "  </tbody>\n",
       "</table>\n",
       "</div>"
      ],
      "text/plain": [
       "             INLAND     <1H OCEAN        ISLAND    NEAR OCEAN      NEAR BAY\n",
       "count  14035.000000  14035.000000  14035.000000  14035.000000  14035.000000\n",
       "mean       0.321482      0.439330      0.000214      0.129320      0.109654\n",
       "std        0.467062      0.496323      0.014619      0.335565      0.312470\n",
       "min        0.000000      0.000000      0.000000      0.000000      0.000000\n",
       "25%        0.000000      0.000000      0.000000      0.000000      0.000000\n",
       "50%        0.000000      0.000000      0.000000      0.000000      0.000000\n",
       "75%        1.000000      1.000000      0.000000      0.000000      0.000000\n",
       "max        1.000000      1.000000      1.000000      1.000000      1.000000"
      ]
     },
     "execution_count": 36,
     "metadata": {},
     "output_type": "execute_result"
    }
   ],
   "source": [
    "ganbien_endcode = one_hot_encode(gan_bien)\n",
    "ganbien_endcode.describe()"
   ]
  },
  {
   "cell_type": "code",
   "execution_count": 37,
   "metadata": {},
   "outputs": [],
   "source": [
    "train_set[\"inland\"] = ganbien_endcode[\"INLAND\"]\n",
    "train_set[\"<1h_ocean\"] = ganbien_endcode[\"<1H OCEAN\"]\n",
    "train_set[\"island\"] = ganbien_endcode[\"ISLAND\"]\n",
    "train_set[\"near_ocean\"] = ganbien_endcode[\"NEAR OCEAN\"]\n",
    "train_set[\"near_bay\"] = ganbien_endcode[\"NEAR BAY\"]"
   ]
  },
  {
   "cell_type": "code",
   "execution_count": 38,
   "metadata": {},
   "outputs": [
    {
     "data": {
      "text/html": [
       "<div>\n",
       "<style scoped>\n",
       "    .dataframe tbody tr th:only-of-type {\n",
       "        vertical-align: middle;\n",
       "    }\n",
       "\n",
       "    .dataframe tbody tr th {\n",
       "        vertical-align: top;\n",
       "    }\n",
       "\n",
       "    .dataframe thead th {\n",
       "        text-align: right;\n",
       "    }\n",
       "</style>\n",
       "<table border=\"1\" class=\"dataframe\">\n",
       "  <thead>\n",
       "    <tr style=\"text-align: right;\">\n",
       "      <th></th>\n",
       "      <th>Kinh_do</th>\n",
       "      <th>Vi_do</th>\n",
       "      <th>Tuoi_trung_binh</th>\n",
       "      <th>Tong_so_phong</th>\n",
       "      <th>So_phong_ngu</th>\n",
       "      <th>Dan_so</th>\n",
       "      <th>So_ho_gia_dinh</th>\n",
       "      <th>Thu_nhap_trung_binh</th>\n",
       "      <th>Gan_bien</th>\n",
       "      <th>gia_nha_trung_binh</th>\n",
       "      <th>inland</th>\n",
       "      <th>&lt;1h_ocean</th>\n",
       "      <th>island</th>\n",
       "      <th>near_ocean</th>\n",
       "      <th>near_bay</th>\n",
       "    </tr>\n",
       "  </thead>\n",
       "  <tbody>\n",
       "    <tr>\n",
       "      <th>0</th>\n",
       "      <td>-121.27</td>\n",
       "      <td>38.61</td>\n",
       "      <td>17</td>\n",
       "      <td>6663</td>\n",
       "      <td>1369.0</td>\n",
       "      <td>2840</td>\n",
       "      <td>1299</td>\n",
       "      <td>2.9452</td>\n",
       "      <td>INLAND</td>\n",
       "      <td>115600</td>\n",
       "      <td>1</td>\n",
       "      <td>0</td>\n",
       "      <td>0</td>\n",
       "      <td>0</td>\n",
       "      <td>0</td>\n",
       "    </tr>\n",
       "    <tr>\n",
       "      <th>1</th>\n",
       "      <td>-121.36</td>\n",
       "      <td>38.69</td>\n",
       "      <td>13</td>\n",
       "      <td>6850</td>\n",
       "      <td>1400.0</td>\n",
       "      <td>4251</td>\n",
       "      <td>1421</td>\n",
       "      <td>3.6989</td>\n",
       "      <td>INLAND</td>\n",
       "      <td>93300</td>\n",
       "      <td>1</td>\n",
       "      <td>0</td>\n",
       "      <td>0</td>\n",
       "      <td>0</td>\n",
       "      <td>0</td>\n",
       "    </tr>\n",
       "    <tr>\n",
       "      <th>2</th>\n",
       "      <td>-118.84</td>\n",
       "      <td>34.17</td>\n",
       "      <td>16</td>\n",
       "      <td>3449</td>\n",
       "      <td>820.0</td>\n",
       "      <td>1877</td>\n",
       "      <td>816</td>\n",
       "      <td>3.2176</td>\n",
       "      <td>&lt;1H OCEAN</td>\n",
       "      <td>187500</td>\n",
       "      <td>0</td>\n",
       "      <td>1</td>\n",
       "      <td>0</td>\n",
       "      <td>0</td>\n",
       "      <td>0</td>\n",
       "    </tr>\n",
       "    <tr>\n",
       "      <th>3</th>\n",
       "      <td>-118.03</td>\n",
       "      <td>34.14</td>\n",
       "      <td>31</td>\n",
       "      <td>4353</td>\n",
       "      <td>1117.0</td>\n",
       "      <td>2338</td>\n",
       "      <td>1037</td>\n",
       "      <td>3.0727</td>\n",
       "      <td>INLAND</td>\n",
       "      <td>242600</td>\n",
       "      <td>1</td>\n",
       "      <td>0</td>\n",
       "      <td>0</td>\n",
       "      <td>0</td>\n",
       "      <td>0</td>\n",
       "    </tr>\n",
       "    <tr>\n",
       "      <th>4</th>\n",
       "      <td>-122.25</td>\n",
       "      <td>37.86</td>\n",
       "      <td>48</td>\n",
       "      <td>2153</td>\n",
       "      <td>517.0</td>\n",
       "      <td>1656</td>\n",
       "      <td>459</td>\n",
       "      <td>3.0417</td>\n",
       "      <td>NEAR BAY</td>\n",
       "      <td>489600</td>\n",
       "      <td>0</td>\n",
       "      <td>0</td>\n",
       "      <td>0</td>\n",
       "      <td>0</td>\n",
       "      <td>1</td>\n",
       "    </tr>\n",
       "    <tr>\n",
       "      <th>5</th>\n",
       "      <td>-122.27</td>\n",
       "      <td>37.98</td>\n",
       "      <td>23</td>\n",
       "      <td>3455</td>\n",
       "      <td>479.0</td>\n",
       "      <td>1375</td>\n",
       "      <td>474</td>\n",
       "      <td>6.0289</td>\n",
       "      <td>NEAR BAY</td>\n",
       "      <td>218600</td>\n",
       "      <td>0</td>\n",
       "      <td>0</td>\n",
       "      <td>0</td>\n",
       "      <td>0</td>\n",
       "      <td>1</td>\n",
       "    </tr>\n",
       "    <tr>\n",
       "      <th>6</th>\n",
       "      <td>-117.86</td>\n",
       "      <td>33.79</td>\n",
       "      <td>34</td>\n",
       "      <td>1883</td>\n",
       "      <td>408.0</td>\n",
       "      <td>1227</td>\n",
       "      <td>424</td>\n",
       "      <td>3.8929</td>\n",
       "      <td>&lt;1H OCEAN</td>\n",
       "      <td>187500</td>\n",
       "      <td>0</td>\n",
       "      <td>1</td>\n",
       "      <td>0</td>\n",
       "      <td>0</td>\n",
       "      <td>0</td>\n",
       "    </tr>\n",
       "    <tr>\n",
       "      <th>7</th>\n",
       "      <td>-118.13</td>\n",
       "      <td>33.76</td>\n",
       "      <td>44</td>\n",
       "      <td>1543</td>\n",
       "      <td>463.0</td>\n",
       "      <td>652</td>\n",
       "      <td>406</td>\n",
       "      <td>4.2500</td>\n",
       "      <td>NEAR OCEAN</td>\n",
       "      <td>439300</td>\n",
       "      <td>0</td>\n",
       "      <td>0</td>\n",
       "      <td>0</td>\n",
       "      <td>1</td>\n",
       "      <td>0</td>\n",
       "    </tr>\n",
       "    <tr>\n",
       "      <th>8</th>\n",
       "      <td>-120.45</td>\n",
       "      <td>34.71</td>\n",
       "      <td>21</td>\n",
       "      <td>1868</td>\n",
       "      <td>268.0</td>\n",
       "      <td>522</td>\n",
       "      <td>255</td>\n",
       "      <td>6.4678</td>\n",
       "      <td>NEAR OCEAN</td>\n",
       "      <td>249300</td>\n",
       "      <td>0</td>\n",
       "      <td>0</td>\n",
       "      <td>0</td>\n",
       "      <td>1</td>\n",
       "      <td>0</td>\n",
       "    </tr>\n",
       "    <tr>\n",
       "      <th>9</th>\n",
       "      <td>-122.47</td>\n",
       "      <td>37.50</td>\n",
       "      <td>18</td>\n",
       "      <td>2297</td>\n",
       "      <td>416.0</td>\n",
       "      <td>1086</td>\n",
       "      <td>381</td>\n",
       "      <td>4.8750</td>\n",
       "      <td>NEAR OCEAN</td>\n",
       "      <td>334600</td>\n",
       "      <td>0</td>\n",
       "      <td>0</td>\n",
       "      <td>0</td>\n",
       "      <td>1</td>\n",
       "      <td>0</td>\n",
       "    </tr>\n",
       "  </tbody>\n",
       "</table>\n",
       "</div>"
      ],
      "text/plain": [
       "   Kinh_do  Vi_do  Tuoi_trung_binh  Tong_so_phong  So_phong_ngu  Dan_so  \\\n",
       "0  -121.27  38.61               17           6663        1369.0    2840   \n",
       "1  -121.36  38.69               13           6850        1400.0    4251   \n",
       "2  -118.84  34.17               16           3449         820.0    1877   \n",
       "3  -118.03  34.14               31           4353        1117.0    2338   \n",
       "4  -122.25  37.86               48           2153         517.0    1656   \n",
       "5  -122.27  37.98               23           3455         479.0    1375   \n",
       "6  -117.86  33.79               34           1883         408.0    1227   \n",
       "7  -118.13  33.76               44           1543         463.0     652   \n",
       "8  -120.45  34.71               21           1868         268.0     522   \n",
       "9  -122.47  37.50               18           2297         416.0    1086   \n",
       "\n",
       "   So_ho_gia_dinh  Thu_nhap_trung_binh    Gan_bien  gia_nha_trung_binh  \\\n",
       "0            1299               2.9452      INLAND              115600   \n",
       "1            1421               3.6989      INLAND               93300   \n",
       "2             816               3.2176   <1H OCEAN              187500   \n",
       "3            1037               3.0727      INLAND              242600   \n",
       "4             459               3.0417    NEAR BAY              489600   \n",
       "5             474               6.0289    NEAR BAY              218600   \n",
       "6             424               3.8929   <1H OCEAN              187500   \n",
       "7             406               4.2500  NEAR OCEAN              439300   \n",
       "8             255               6.4678  NEAR OCEAN              249300   \n",
       "9             381               4.8750  NEAR OCEAN              334600   \n",
       "\n",
       "   inland  <1h_ocean  island  near_ocean  near_bay  \n",
       "0       1          0       0           0         0  \n",
       "1       1          0       0           0         0  \n",
       "2       0          1       0           0         0  \n",
       "3       1          0       0           0         0  \n",
       "4       0          0       0           0         1  \n",
       "5       0          0       0           0         1  \n",
       "6       0          1       0           0         0  \n",
       "7       0          0       0           1         0  \n",
       "8       0          0       0           1         0  \n",
       "9       0          0       0           1         0  "
      ]
     },
     "execution_count": 38,
     "metadata": {},
     "output_type": "execute_result"
    }
   ],
   "source": [
    "train_set.head(10)"
   ]
  },
  {
   "cell_type": "code",
   "execution_count": 39,
   "metadata": {},
   "outputs": [],
   "source": [
    "def preprocess_data_2(data):\n",
    "    data_fill = data.fillna({'So_phong_ngu':median})\n",
    "    gan_bien = data_fill[\"Gan_bien\"]\n",
    "    ganbien_endcode = one_hot_encode(gan_bien)\n",
    "    data_fill = data_fill.drop(\"Gan_bien\", axis=1)\n",
    "    column_name = data_fill.columns.values.tolist()\n",
    "    scaler_data = StandardScaler()\n",
    "    data_scale = scaler_data.fit_transform(data_fill)\n",
    "    data_scale_pd = pd.DataFrame(np.array(data_scale), columns=column_name)\n",
    "    data_scale_pd[\"inland\"] = ganbien_endcode[\"INLAND\"]\n",
    "    data_scale_pd[\"<1h_ocean\"] = ganbien_endcode[\"<1H OCEAN\"]\n",
    "    data_scale_pd[\"island\"] = ganbien_endcode[\"ISLAND\"]\n",
    "    data_scale_pd[\"near_ocean\"] = ganbien_endcode[\"NEAR OCEAN\"]\n",
    "    data_scale_pd[\"near_bay\"] = ganbien_endcode[\"NEAR BAY\"]\n",
    "    return data_scale_pd\n",
    "    return data_fill"
   ]
  },
  {
   "cell_type": "code",
   "execution_count": 40,
   "metadata": {},
   "outputs": [
    {
     "name": "stderr",
     "output_type": "stream",
     "text": [
      "/home/linhph/.local/lib/python3.6/site-packages/sklearn/preprocessing/data.py:645: DataConversionWarning: Data with input dtype int64, float64 were all converted to float64 by StandardScaler.\n",
      "  return self.partial_fit(X, y)\n",
      "/home/linhph/.local/lib/python3.6/site-packages/sklearn/base.py:464: DataConversionWarning: Data with input dtype int64, float64 were all converted to float64 by StandardScaler.\n",
      "  return self.fit(X, **fit_params).transform(X)\n"
     ]
    }
   ],
   "source": [
    "train_label = train_set[\"gia_nha_trung_binh\"]\n",
    "train_data = train_set.drop(\"gia_nha_trung_binh\", axis=1)\n",
    "train_data_preprocess = preprocess_data_2(train_data)"
   ]
  },
  {
   "cell_type": "code",
   "execution_count": 41,
   "metadata": {},
   "outputs": [
    {
     "data": {
      "text/html": [
       "<div>\n",
       "<style scoped>\n",
       "    .dataframe tbody tr th:only-of-type {\n",
       "        vertical-align: middle;\n",
       "    }\n",
       "\n",
       "    .dataframe tbody tr th {\n",
       "        vertical-align: top;\n",
       "    }\n",
       "\n",
       "    .dataframe thead th {\n",
       "        text-align: right;\n",
       "    }\n",
       "</style>\n",
       "<table border=\"1\" class=\"dataframe\">\n",
       "  <thead>\n",
       "    <tr style=\"text-align: right;\">\n",
       "      <th></th>\n",
       "      <th>Kinh_do</th>\n",
       "      <th>Vi_do</th>\n",
       "      <th>Tuoi_trung_binh</th>\n",
       "      <th>Tong_so_phong</th>\n",
       "      <th>So_phong_ngu</th>\n",
       "      <th>Dan_so</th>\n",
       "      <th>So_ho_gia_dinh</th>\n",
       "      <th>Thu_nhap_trung_binh</th>\n",
       "      <th>inland</th>\n",
       "      <th>&lt;1h_ocean</th>\n",
       "      <th>island</th>\n",
       "      <th>near_ocean</th>\n",
       "      <th>near_bay</th>\n",
       "    </tr>\n",
       "  </thead>\n",
       "  <tbody>\n",
       "    <tr>\n",
       "      <th>0</th>\n",
       "      <td>-0.846576</td>\n",
       "      <td>1.386450</td>\n",
       "      <td>-0.932219</td>\n",
       "      <td>1.820303</td>\n",
       "      <td>1.963095</td>\n",
       "      <td>1.214736</td>\n",
       "      <td>2.063878</td>\n",
       "      <td>-0.482916</td>\n",
       "      <td>1</td>\n",
       "      <td>0</td>\n",
       "      <td>0</td>\n",
       "      <td>0</td>\n",
       "      <td>0</td>\n",
       "    </tr>\n",
       "    <tr>\n",
       "      <th>1</th>\n",
       "      <td>-0.891400</td>\n",
       "      <td>1.423809</td>\n",
       "      <td>-1.252404</td>\n",
       "      <td>1.905034</td>\n",
       "      <td>2.036424</td>\n",
       "      <td>2.431676</td>\n",
       "      <td>2.379512</td>\n",
       "      <td>-0.082220</td>\n",
       "      <td>1</td>\n",
       "      <td>0</td>\n",
       "      <td>0</td>\n",
       "      <td>0</td>\n",
       "      <td>0</td>\n",
       "    </tr>\n",
       "    <tr>\n",
       "      <th>2</th>\n",
       "      <td>0.363675</td>\n",
       "      <td>-0.686976</td>\n",
       "      <td>-1.012265</td>\n",
       "      <td>0.364026</td>\n",
       "      <td>0.664466</td>\n",
       "      <td>0.384180</td>\n",
       "      <td>0.814278</td>\n",
       "      <td>-0.338098</td>\n",
       "      <td>0</td>\n",
       "      <td>1</td>\n",
       "      <td>0</td>\n",
       "      <td>0</td>\n",
       "      <td>0</td>\n",
       "    </tr>\n",
       "    <tr>\n",
       "      <th>3</th>\n",
       "      <td>0.767092</td>\n",
       "      <td>-0.700986</td>\n",
       "      <td>0.188426</td>\n",
       "      <td>0.773632</td>\n",
       "      <td>1.367003</td>\n",
       "      <td>0.781777</td>\n",
       "      <td>1.386042</td>\n",
       "      <td>-0.415132</td>\n",
       "      <td>1</td>\n",
       "      <td>0</td>\n",
       "      <td>0</td>\n",
       "      <td>0</td>\n",
       "      <td>0</td>\n",
       "    </tr>\n",
       "    <tr>\n",
       "      <th>4</th>\n",
       "      <td>-1.334661</td>\n",
       "      <td>1.036209</td>\n",
       "      <td>1.549210</td>\n",
       "      <td>-0.223197</td>\n",
       "      <td>-0.052263</td>\n",
       "      <td>0.193575</td>\n",
       "      <td>-0.109339</td>\n",
       "      <td>-0.431613</td>\n",
       "      <td>0</td>\n",
       "      <td>0</td>\n",
       "      <td>0</td>\n",
       "      <td>0</td>\n",
       "      <td>1</td>\n",
       "    </tr>\n",
       "    <tr>\n",
       "      <th>5</th>\n",
       "      <td>-1.344622</td>\n",
       "      <td>1.092248</td>\n",
       "      <td>-0.451943</td>\n",
       "      <td>0.366745</td>\n",
       "      <td>-0.142150</td>\n",
       "      <td>-0.048778</td>\n",
       "      <td>-0.070531</td>\n",
       "      <td>1.156501</td>\n",
       "      <td>0</td>\n",
       "      <td>0</td>\n",
       "      <td>0</td>\n",
       "      <td>0</td>\n",
       "      <td>1</td>\n",
       "    </tr>\n",
       "    <tr>\n",
       "      <th>6</th>\n",
       "      <td>0.851759</td>\n",
       "      <td>-0.864432</td>\n",
       "      <td>0.428565</td>\n",
       "      <td>-0.345535</td>\n",
       "      <td>-0.310096</td>\n",
       "      <td>-0.176423</td>\n",
       "      <td>-0.199890</td>\n",
       "      <td>0.020919</td>\n",
       "      <td>0</td>\n",
       "      <td>1</td>\n",
       "      <td>0</td>\n",
       "      <td>0</td>\n",
       "      <td>0</td>\n",
       "    </tr>\n",
       "    <tr>\n",
       "      <th>7</th>\n",
       "      <td>0.717287</td>\n",
       "      <td>-0.878441</td>\n",
       "      <td>1.229026</td>\n",
       "      <td>-0.499591</td>\n",
       "      <td>-0.179997</td>\n",
       "      <td>-0.672341</td>\n",
       "      <td>-0.246459</td>\n",
       "      <td>0.210767</td>\n",
       "      <td>0</td>\n",
       "      <td>0</td>\n",
       "      <td>0</td>\n",
       "      <td>1</td>\n",
       "      <td>0</td>\n",
       "    </tr>\n",
       "    <tr>\n",
       "      <th>8</th>\n",
       "      <td>-0.438179</td>\n",
       "      <td>-0.434803</td>\n",
       "      <td>-0.612035</td>\n",
       "      <td>-0.352332</td>\n",
       "      <td>-0.641258</td>\n",
       "      <td>-0.784462</td>\n",
       "      <td>-0.637120</td>\n",
       "      <td>1.389837</td>\n",
       "      <td>0</td>\n",
       "      <td>0</td>\n",
       "      <td>0</td>\n",
       "      <td>1</td>\n",
       "      <td>0</td>\n",
       "    </tr>\n",
       "    <tr>\n",
       "      <th>9</th>\n",
       "      <td>-1.444231</td>\n",
       "      <td>0.868093</td>\n",
       "      <td>-0.852173</td>\n",
       "      <td>-0.157950</td>\n",
       "      <td>-0.291173</td>\n",
       "      <td>-0.298031</td>\n",
       "      <td>-0.311138</td>\n",
       "      <td>0.543042</td>\n",
       "      <td>0</td>\n",
       "      <td>0</td>\n",
       "      <td>0</td>\n",
       "      <td>1</td>\n",
       "      <td>0</td>\n",
       "    </tr>\n",
       "  </tbody>\n",
       "</table>\n",
       "</div>"
      ],
      "text/plain": [
       "    Kinh_do     Vi_do  Tuoi_trung_binh  Tong_so_phong  So_phong_ngu    Dan_so  \\\n",
       "0 -0.846576  1.386450        -0.932219       1.820303      1.963095  1.214736   \n",
       "1 -0.891400  1.423809        -1.252404       1.905034      2.036424  2.431676   \n",
       "2  0.363675 -0.686976        -1.012265       0.364026      0.664466  0.384180   \n",
       "3  0.767092 -0.700986         0.188426       0.773632      1.367003  0.781777   \n",
       "4 -1.334661  1.036209         1.549210      -0.223197     -0.052263  0.193575   \n",
       "5 -1.344622  1.092248        -0.451943       0.366745     -0.142150 -0.048778   \n",
       "6  0.851759 -0.864432         0.428565      -0.345535     -0.310096 -0.176423   \n",
       "7  0.717287 -0.878441         1.229026      -0.499591     -0.179997 -0.672341   \n",
       "8 -0.438179 -0.434803        -0.612035      -0.352332     -0.641258 -0.784462   \n",
       "9 -1.444231  0.868093        -0.852173      -0.157950     -0.291173 -0.298031   \n",
       "\n",
       "   So_ho_gia_dinh  Thu_nhap_trung_binh  inland  <1h_ocean  island  near_ocean  \\\n",
       "0        2.063878            -0.482916       1          0       0           0   \n",
       "1        2.379512            -0.082220       1          0       0           0   \n",
       "2        0.814278            -0.338098       0          1       0           0   \n",
       "3        1.386042            -0.415132       1          0       0           0   \n",
       "4       -0.109339            -0.431613       0          0       0           0   \n",
       "5       -0.070531             1.156501       0          0       0           0   \n",
       "6       -0.199890             0.020919       0          1       0           0   \n",
       "7       -0.246459             0.210767       0          0       0           1   \n",
       "8       -0.637120             1.389837       0          0       0           1   \n",
       "9       -0.311138             0.543042       0          0       0           1   \n",
       "\n",
       "   near_bay  \n",
       "0         0  \n",
       "1         0  \n",
       "2         0  \n",
       "3         0  \n",
       "4         1  \n",
       "5         1  \n",
       "6         0  \n",
       "7         0  \n",
       "8         0  \n",
       "9         0  "
      ]
     },
     "execution_count": 41,
     "metadata": {},
     "output_type": "execute_result"
    }
   ],
   "source": [
    "train_data_preprocess.head(10)"
   ]
  },
  {
   "cell_type": "code",
   "execution_count": 42,
   "metadata": {},
   "outputs": [
    {
     "data": {
      "text/plain": [
       "LinearRegression(copy_X=True, fit_intercept=True, n_jobs=None,\n",
       "         normalize=False)"
      ]
     },
     "execution_count": 42,
     "metadata": {},
     "output_type": "execute_result"
    }
   ],
   "source": [
    "from sklearn.linear_model import LinearRegression\n",
    "linear = LinearRegression()\n",
    "linear.fit(train_data_preprocess, train_label)"
   ]
  },
  {
   "cell_type": "code",
   "execution_count": 43,
   "metadata": {},
   "outputs": [
    {
     "name": "stderr",
     "output_type": "stream",
     "text": [
      "/home/linhph/.local/lib/python3.6/site-packages/sklearn/preprocessing/data.py:645: DataConversionWarning: Data with input dtype int64, float64 were all converted to float64 by StandardScaler.\n",
      "  return self.partial_fit(X, y)\n",
      "/home/linhph/.local/lib/python3.6/site-packages/sklearn/base.py:464: DataConversionWarning: Data with input dtype int64, float64 were all converted to float64 by StandardScaler.\n",
      "  return self.fit(X, **fit_params).transform(X)\n"
     ]
    },
    {
     "data": {
      "text/plain": [
       "array([117094.43641322, 260139.27374299, 247081.91403569, ...,\n",
       "       179189.94702478, 247412.70069429, 115778.17304255])"
      ]
     },
     "execution_count": 43,
     "metadata": {},
     "output_type": "execute_result"
    }
   ],
   "source": [
    "test_dataset = pd.read_csv(\"data/test_set.csv\")\n",
    "# test_label = test_dataset[\"gia_nha_trung_binh\"]\n",
    "test_data = test_dataset.drop(\"gia_nha_trung_binh\", axis=1)\n",
    "test_data = preprocess_data_2(test_data)\n",
    "test_result = linear.predict(test_data)\n",
    "test_result"
   ]
  },
  {
   "cell_type": "code",
   "execution_count": 44,
   "metadata": {},
   "outputs": [
    {
     "data": {
      "text/plain": [
       "array([ 65800, 218300, 289600, ..., 150000, 173300,  87900])"
      ]
     },
     "execution_count": 44,
     "metadata": {},
     "output_type": "execute_result"
    }
   ],
   "source": [
    "test_label"
   ]
  },
  {
   "cell_type": "markdown",
   "metadata": {},
   "source": [
    "# New rmse error with onehotencode:"
   ]
  },
  {
   "cell_type": "code",
   "execution_count": 45,
   "metadata": {},
   "outputs": [
    {
     "data": {
      "text/plain": [
       "69925.21667331018"
      ]
     },
     "execution_count": 45,
     "metadata": {},
     "output_type": "execute_result"
    }
   ],
   "source": [
    "err = mean_squared_error(test_result, test_label)\n",
    "rmse = math.sqrt(err)\n",
    "rmse"
   ]
  },
  {
   "cell_type": "markdown",
   "metadata": {},
   "source": [
    "# Thử với random forest:"
   ]
  },
  {
   "cell_type": "code",
   "execution_count": 46,
   "metadata": {},
   "outputs": [
    {
     "name": "stderr",
     "output_type": "stream",
     "text": [
      "/home/linhph/.local/lib/python3.6/site-packages/sklearn/ensemble/forest.py:246: FutureWarning: The default value of n_estimators will change from 10 in version 0.20 to 100 in 0.22.\n",
      "  \"10 in version 0.20 to 100 in 0.22.\", FutureWarning)\n"
     ]
    },
    {
     "data": {
      "text/plain": [
       "RandomForestRegressor(bootstrap=True, criterion='mse', max_depth=None,\n",
       "           max_features='auto', max_leaf_nodes=None,\n",
       "           min_impurity_decrease=0.0, min_impurity_split=None,\n",
       "           min_samples_leaf=1, min_samples_split=2,\n",
       "           min_weight_fraction_leaf=0.0, n_estimators=10, n_jobs=None,\n",
       "           oob_score=False, random_state=None, verbose=0, warm_start=False)"
      ]
     },
     "execution_count": 46,
     "metadata": {},
     "output_type": "execute_result"
    }
   ],
   "source": [
    "from sklearn.ensemble import RandomForestRegressor\n",
    "rf = RandomForestRegressor()\n",
    "rf.fit(train_data_preprocess, train_label)"
   ]
  },
  {
   "cell_type": "code",
   "execution_count": 47,
   "metadata": {},
   "outputs": [
    {
     "data": {
      "text/plain": [
       "array([ 70210. , 225470. , 263310.1, ..., 178160. , 174400. , 108300. ])"
      ]
     },
     "execution_count": 47,
     "metadata": {},
     "output_type": "execute_result"
    }
   ],
   "source": [
    "test_result = rf.predict(test_data)\n",
    "test_result"
   ]
  },
  {
   "cell_type": "markdown",
   "metadata": {},
   "source": [
    "# Random forest error result:"
   ]
  },
  {
   "cell_type": "code",
   "execution_count": 48,
   "metadata": {},
   "outputs": [
    {
     "data": {
      "text/plain": [
       "57027.485639928804"
      ]
     },
     "execution_count": 48,
     "metadata": {},
     "output_type": "execute_result"
    }
   ],
   "source": [
    "err = mean_squared_error(test_result, test_label)\n",
    "rmse = math.sqrt(err)\n",
    "rmse"
   ]
  },
  {
   "cell_type": "markdown",
   "metadata": {},
   "source": [
    "# new grid search"
   ]
  },
  {
   "cell_type": "code",
   "execution_count": 49,
   "metadata": {},
   "outputs": [
    {
     "data": {
      "text/plain": [
       "GridSearchCV(cv=5, error_score='raise-deprecating',\n",
       "       estimator=RandomForestRegressor(bootstrap=True, criterion='mse', max_depth=None,\n",
       "           max_features='auto', max_leaf_nodes=None,\n",
       "           min_impurity_decrease=0.0, min_impurity_split=None,\n",
       "           min_samples_leaf=1, min_samples_split=2,\n",
       "           min_weight_fraction_leaf=0.0, n_estimators='warn', n_jobs=None,\n",
       "           oob_score=False, random_state=None, verbose=0, warm_start=False),\n",
       "       fit_params=None, iid='warn', n_jobs=None,\n",
       "       param_grid=[{'n_estimators': [3, 10, 30], 'max_features': [2, 4, 6, 8]}, {'bootstrap': [False], 'n_estimators': [3, 10], 'max_features': [2, 3, 4]}],\n",
       "       pre_dispatch='2*n_jobs', refit=True, return_train_score='warn',\n",
       "       scoring='neg_mean_squared_error', verbose=0)"
      ]
     },
     "execution_count": 49,
     "metadata": {},
     "output_type": "execute_result"
    }
   ],
   "source": [
    "from sklearn.model_selection import GridSearchCV\n",
    "param_grid = [\n",
    "{'n_estimators': [3, 10, 30], 'max_features': [2, 4, 6, 8]},\n",
    "{'bootstrap': [False], 'n_estimators': [3, 10], 'max_features': [2, 3, 4]},\n",
    "]\n",
    "forest_reg = RandomForestRegressor()\n",
    "grid_search = GridSearchCV(forest_reg, param_grid, cv=5,\n",
    "scoring='neg_mean_squared_error')\n",
    "grid_search.fit(train_data_preprocess, train_label)"
   ]
  },
  {
   "cell_type": "code",
   "execution_count": 50,
   "metadata": {},
   "outputs": [
    {
     "data": {
      "text/plain": [
       "{'max_features': 8, 'n_estimators': 30}"
      ]
     },
     "execution_count": 50,
     "metadata": {},
     "output_type": "execute_result"
    }
   ],
   "source": [
    "grid_search.best_params_"
   ]
  },
  {
   "cell_type": "code",
   "execution_count": 51,
   "metadata": {},
   "outputs": [],
   "source": [
    "best_model = grid_search.best_estimator_"
   ]
  },
  {
   "cell_type": "code",
   "execution_count": 52,
   "metadata": {},
   "outputs": [
    {
     "data": {
      "text/plain": [
       "array([ 70070.        , 243110.        , 245683.4       , ...,\n",
       "       171930.        , 176096.66666667, 117043.33333333])"
      ]
     },
     "execution_count": 52,
     "metadata": {},
     "output_type": "execute_result"
    }
   ],
   "source": [
    "test_result = best_model.predict(test_data)\n",
    "test_result"
   ]
  },
  {
   "cell_type": "markdown",
   "metadata": {},
   "source": [
    "# rmse with grid search"
   ]
  },
  {
   "cell_type": "code",
   "execution_count": 53,
   "metadata": {},
   "outputs": [
    {
     "data": {
      "text/plain": [
       "53344.57580190789"
      ]
     },
     "execution_count": 53,
     "metadata": {},
     "output_type": "execute_result"
    }
   ],
   "source": [
    "err = mean_squared_error(test_result, test_label)\n",
    "rmse = math.sqrt(err)\n",
    "rmse"
   ]
  },
  {
   "cell_type": "markdown",
   "metadata": {},
   "source": [
    "# Caculate with private test"
   ]
  },
  {
   "cell_type": "code",
   "execution_count": 54,
   "metadata": {},
   "outputs": [],
   "source": [
    "private_test = pd.read_csv(\"data/test_data.csv\")"
   ]
  },
  {
   "cell_type": "code",
   "execution_count": 55,
   "metadata": {},
   "outputs": [
    {
     "data": {
      "text/html": [
       "<div>\n",
       "<style scoped>\n",
       "    .dataframe tbody tr th:only-of-type {\n",
       "        vertical-align: middle;\n",
       "    }\n",
       "\n",
       "    .dataframe tbody tr th {\n",
       "        vertical-align: top;\n",
       "    }\n",
       "\n",
       "    .dataframe thead th {\n",
       "        text-align: right;\n",
       "    }\n",
       "</style>\n",
       "<table border=\"1\" class=\"dataframe\">\n",
       "  <thead>\n",
       "    <tr style=\"text-align: right;\">\n",
       "      <th></th>\n",
       "      <th>Kinh_do</th>\n",
       "      <th>Vi_do</th>\n",
       "      <th>Tuoi_trung_binh</th>\n",
       "      <th>Tong_so_phong</th>\n",
       "      <th>So_phong_ngu</th>\n",
       "      <th>Dan_so</th>\n",
       "      <th>So_ho_gia_dinh</th>\n",
       "      <th>Thu_nhap_trung_binh</th>\n",
       "    </tr>\n",
       "  </thead>\n",
       "  <tbody>\n",
       "    <tr>\n",
       "      <th>count</th>\n",
       "      <td>3096.000000</td>\n",
       "      <td>3096.000000</td>\n",
       "      <td>3096.000000</td>\n",
       "      <td>3096.000000</td>\n",
       "      <td>3058.000000</td>\n",
       "      <td>3096.000000</td>\n",
       "      <td>3096.000000</td>\n",
       "      <td>3096.000000</td>\n",
       "    </tr>\n",
       "    <tr>\n",
       "      <th>mean</th>\n",
       "      <td>-119.582471</td>\n",
       "      <td>35.633995</td>\n",
       "      <td>28.686693</td>\n",
       "      <td>2629.222868</td>\n",
       "      <td>533.020929</td>\n",
       "      <td>1413.131783</td>\n",
       "      <td>496.436047</td>\n",
       "      <td>3.912549</td>\n",
       "    </tr>\n",
       "    <tr>\n",
       "      <th>std</th>\n",
       "      <td>1.996473</td>\n",
       "      <td>2.128693</td>\n",
       "      <td>12.911856</td>\n",
       "      <td>2218.773266</td>\n",
       "      <td>430.258542</td>\n",
       "      <td>1107.335336</td>\n",
       "      <td>384.990163</td>\n",
       "      <td>1.918176</td>\n",
       "    </tr>\n",
       "    <tr>\n",
       "      <th>min</th>\n",
       "      <td>-124.230000</td>\n",
       "      <td>32.560000</td>\n",
       "      <td>1.000000</td>\n",
       "      <td>2.000000</td>\n",
       "      <td>2.000000</td>\n",
       "      <td>5.000000</td>\n",
       "      <td>2.000000</td>\n",
       "      <td>0.499900</td>\n",
       "    </tr>\n",
       "    <tr>\n",
       "      <th>25%</th>\n",
       "      <td>-121.810000</td>\n",
       "      <td>33.930000</td>\n",
       "      <td>18.000000</td>\n",
       "      <td>1428.750000</td>\n",
       "      <td>287.000000</td>\n",
       "      <td>781.000000</td>\n",
       "      <td>274.000000</td>\n",
       "      <td>2.603600</td>\n",
       "    </tr>\n",
       "    <tr>\n",
       "      <th>50%</th>\n",
       "      <td>-118.485000</td>\n",
       "      <td>34.270000</td>\n",
       "      <td>29.000000</td>\n",
       "      <td>2124.500000</td>\n",
       "      <td>429.500000</td>\n",
       "      <td>1156.000000</td>\n",
       "      <td>408.000000</td>\n",
       "      <td>3.574800</td>\n",
       "    </tr>\n",
       "    <tr>\n",
       "      <th>75%</th>\n",
       "      <td>-117.990000</td>\n",
       "      <td>37.710000</td>\n",
       "      <td>37.000000</td>\n",
       "      <td>3149.000000</td>\n",
       "      <td>636.000000</td>\n",
       "      <td>1697.500000</td>\n",
       "      <td>599.250000</td>\n",
       "      <td>4.796400</td>\n",
       "    </tr>\n",
       "    <tr>\n",
       "      <th>max</th>\n",
       "      <td>-114.590000</td>\n",
       "      <td>41.950000</td>\n",
       "      <td>52.000000</td>\n",
       "      <td>39320.000000</td>\n",
       "      <td>6210.000000</td>\n",
       "      <td>16305.000000</td>\n",
       "      <td>5358.000000</td>\n",
       "      <td>15.000100</td>\n",
       "    </tr>\n",
       "  </tbody>\n",
       "</table>\n",
       "</div>"
      ],
      "text/plain": [
       "           Kinh_do        Vi_do  Tuoi_trung_binh  Tong_so_phong  So_phong_ngu  \\\n",
       "count  3096.000000  3096.000000      3096.000000    3096.000000   3058.000000   \n",
       "mean   -119.582471    35.633995        28.686693    2629.222868    533.020929   \n",
       "std       1.996473     2.128693        12.911856    2218.773266    430.258542   \n",
       "min    -124.230000    32.560000         1.000000       2.000000      2.000000   \n",
       "25%    -121.810000    33.930000        18.000000    1428.750000    287.000000   \n",
       "50%    -118.485000    34.270000        29.000000    2124.500000    429.500000   \n",
       "75%    -117.990000    37.710000        37.000000    3149.000000    636.000000   \n",
       "max    -114.590000    41.950000        52.000000   39320.000000   6210.000000   \n",
       "\n",
       "             Dan_so  So_ho_gia_dinh  Thu_nhap_trung_binh  \n",
       "count   3096.000000     3096.000000          3096.000000  \n",
       "mean    1413.131783      496.436047             3.912549  \n",
       "std     1107.335336      384.990163             1.918176  \n",
       "min        5.000000        2.000000             0.499900  \n",
       "25%      781.000000      274.000000             2.603600  \n",
       "50%     1156.000000      408.000000             3.574800  \n",
       "75%     1697.500000      599.250000             4.796400  \n",
       "max    16305.000000     5358.000000            15.000100  "
      ]
     },
     "execution_count": 55,
     "metadata": {},
     "output_type": "execute_result"
    }
   ],
   "source": [
    "# private_test.describe()"
   ]
  },
  {
   "cell_type": "code",
   "execution_count": 56,
   "metadata": {},
   "outputs": [
    {
     "name": "stderr",
     "output_type": "stream",
     "text": [
      "/home/linhph/.local/lib/python3.6/site-packages/sklearn/preprocessing/data.py:645: DataConversionWarning: Data with input dtype int64, float64 were all converted to float64 by StandardScaler.\n",
      "  return self.partial_fit(X, y)\n",
      "/home/linhph/.local/lib/python3.6/site-packages/sklearn/base.py:464: DataConversionWarning: Data with input dtype int64, float64 were all converted to float64 by StandardScaler.\n",
      "  return self.fit(X, **fit_params).transform(X)\n"
     ]
    }
   ],
   "source": [
    "private_test_preprocess = preprocess_data_2(private_test)"
   ]
  },
  {
   "cell_type": "code",
   "execution_count": 57,
   "metadata": {},
   "outputs": [
    {
     "data": {
      "text/plain": [
       "array([262693.33333333, 232406.66666667,  77606.66666667, ...,\n",
       "        53463.33333333, 238336.66666667,  73313.33333333])"
      ]
     },
     "execution_count": 57,
     "metadata": {},
     "output_type": "execute_result"
    }
   ],
   "source": [
    "test_result = best_model.predict(private_test_preprocess)\n",
    "test_result"
   ]
  },
  {
   "cell_type": "code",
   "execution_count": 58,
   "metadata": {},
   "outputs": [],
   "source": [
    "# with open('linhph_01.txt', mode='wt', encoding='utf-8') as f:\n",
    "#     f.write('\\n'.join(str(line) for line in test_result))"
   ]
  },
  {
   "cell_type": "markdown",
   "metadata": {},
   "source": [
    "# Random forest 2"
   ]
  },
  {
   "cell_type": "code",
   "execution_count": 76,
   "metadata": {},
   "outputs": [],
   "source": [
    "rg=RandomForestRegressor(bootstrap=False, criterion='mse', max_depth=100,\n",
    "           max_features='sqrt', max_leaf_nodes=None,\n",
    "           min_impurity_decrease=0.0, min_impurity_split=None,\n",
    "           min_samples_leaf=1, min_samples_split=3,\n",
    "           min_weight_fraction_leaf=0.0, n_estimators=630, n_jobs=1,\n",
    "           oob_score=False, verbose=0, warm_start=False)\n"
   ]
  },
  {
   "cell_type": "code",
   "execution_count": null,
   "metadata": {},
   "outputs": [],
   "source": [
    "rg.fit(train_data_preprocess, train_label)"
   ]
  },
  {
   "cell_type": "code",
   "execution_count": 65,
   "metadata": {},
   "outputs": [
    {
     "data": {
      "text/plain": [
       "52075.07223720439"
      ]
     },
     "execution_count": 65,
     "metadata": {},
     "output_type": "execute_result"
    }
   ],
   "source": [
    "test_result = rg.predict(test_data)\n",
    "err = mean_squared_error(test_result, test_label)\n",
    "rmse = math.sqrt(err)\n",
    "rmse"
   ]
  }
 ],
 "metadata": {
  "kernelspec": {
   "display_name": "Python 3",
   "language": "python",
   "name": "python3"
  },
  "language_info": {
   "codemirror_mode": {
    "name": "ipython",
    "version": 3
   },
   "file_extension": ".py",
   "mimetype": "text/x-python",
   "name": "python",
   "nbconvert_exporter": "python",
   "pygments_lexer": "ipython3",
   "version": "3.6.7"
  }
 },
 "nbformat": 4,
 "nbformat_minor": 2
}
